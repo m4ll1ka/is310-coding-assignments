{
 "cells": [
  {
   "cell_type": "code",
   "execution_count": 17,
   "metadata": {},
   "outputs": [],
   "source": [
    "import pandas as pd\n",
    "\n",
    "film_scripts = pd.read_csv('cleaned_pudding_data.csv', encoding = 'latin-1')\n",
    "character_list_df = pd.read_csv('character_list5.csv', encoding = 'latin-1')\n",
    "character_mapping_df = pd.read_csv('character_mapping.csv', encoding = 'latin-1')\n",
    "metaddata_df = pd.read_csv('meta_data7.csv', encoding = 'latin-1')"
   ]
  },
  {
   "cell_type": "code",
   "execution_count": 18,
   "metadata": {},
   "outputs": [
    {
     "data": {
      "text/html": [
       "<div>\n",
       "<style scoped>\n",
       "    .dataframe tbody tr th:only-of-type {\n",
       "        vertical-align: middle;\n",
       "    }\n",
       "\n",
       "    .dataframe tbody tr th {\n",
       "        vertical-align: top;\n",
       "    }\n",
       "\n",
       "    .dataframe thead th {\n",
       "        text-align: right;\n",
       "    }\n",
       "</style>\n",
       "<table border=\"1\" class=\"dataframe\">\n",
       "  <thead>\n",
       "    <tr style=\"text-align: right;\">\n",
       "      <th></th>\n",
       "      <th>script_id</th>\n",
       "      <th>imdb_character_name</th>\n",
       "      <th>words</th>\n",
       "      <th>gender</th>\n",
       "      <th>age</th>\n",
       "    </tr>\n",
       "  </thead>\n",
       "  <tbody>\n",
       "    <tr>\n",
       "      <th>0</th>\n",
       "      <td>280</td>\n",
       "      <td>betty</td>\n",
       "      <td>311</td>\n",
       "      <td>f</td>\n",
       "      <td>35.0</td>\n",
       "    </tr>\n",
       "    <tr>\n",
       "      <th>1</th>\n",
       "      <td>280</td>\n",
       "      <td>carolyn johnson</td>\n",
       "      <td>873</td>\n",
       "      <td>f</td>\n",
       "      <td>NaN</td>\n",
       "    </tr>\n",
       "    <tr>\n",
       "      <th>2</th>\n",
       "      <td>280</td>\n",
       "      <td>eleanor</td>\n",
       "      <td>138</td>\n",
       "      <td>f</td>\n",
       "      <td>NaN</td>\n",
       "    </tr>\n",
       "    <tr>\n",
       "      <th>3</th>\n",
       "      <td>280</td>\n",
       "      <td>francesca johns</td>\n",
       "      <td>2251</td>\n",
       "      <td>f</td>\n",
       "      <td>46.0</td>\n",
       "    </tr>\n",
       "    <tr>\n",
       "      <th>4</th>\n",
       "      <td>280</td>\n",
       "      <td>madge</td>\n",
       "      <td>190</td>\n",
       "      <td>f</td>\n",
       "      <td>46.0</td>\n",
       "    </tr>\n",
       "  </tbody>\n",
       "</table>\n",
       "</div>"
      ],
      "text/plain": [
       "   script_id imdb_character_name  words gender   age\n",
       "0        280               betty    311      f  35.0\n",
       "1        280     carolyn johnson    873      f   NaN\n",
       "2        280             eleanor    138      f   NaN\n",
       "3        280     francesca johns   2251      f  46.0\n",
       "4        280               madge    190      f  46.0"
      ]
     },
     "execution_count": 18,
     "metadata": {},
     "output_type": "execute_result"
    }
   ],
   "source": [
    "character_list_df.head()"
   ]
  },
  {
   "cell_type": "code",
   "execution_count": 19,
   "metadata": {},
   "outputs": [
    {
     "data": {
      "text/html": [
       "<div>\n",
       "<style scoped>\n",
       "    .dataframe tbody tr th:only-of-type {\n",
       "        vertical-align: middle;\n",
       "    }\n",
       "\n",
       "    .dataframe tbody tr th {\n",
       "        vertical-align: top;\n",
       "    }\n",
       "\n",
       "    .dataframe thead th {\n",
       "        text-align: right;\n",
       "    }\n",
       "</style>\n",
       "<table border=\"1\" class=\"dataframe\">\n",
       "  <thead>\n",
       "    <tr style=\"text-align: right;\">\n",
       "      <th></th>\n",
       "      <th>script_id</th>\n",
       "      <th>imdb_id</th>\n",
       "      <th>character_from_script</th>\n",
       "      <th>closest_character_name_from_imdb_match</th>\n",
       "      <th>closest_imdb_character_id</th>\n",
       "    </tr>\n",
       "  </thead>\n",
       "  <tbody>\n",
       "    <tr>\n",
       "      <th>0</th>\n",
       "      <td>1</td>\n",
       "      <td>tt0147800</td>\n",
       "      <td>bianca</td>\n",
       "      <td>bianca stratford</td>\n",
       "      <td>nm0646351</td>\n",
       "    </tr>\n",
       "    <tr>\n",
       "      <th>1</th>\n",
       "      <td>1</td>\n",
       "      <td>tt0147800</td>\n",
       "      <td>cameron</td>\n",
       "      <td>cameron james</td>\n",
       "      <td>nm0330687</td>\n",
       "    </tr>\n",
       "    <tr>\n",
       "      <th>2</th>\n",
       "      <td>1</td>\n",
       "      <td>tt0147800</td>\n",
       "      <td>chastity</td>\n",
       "      <td>chastity</td>\n",
       "      <td>nm0005517</td>\n",
       "    </tr>\n",
       "    <tr>\n",
       "      <th>3</th>\n",
       "      <td>1</td>\n",
       "      <td>tt0147800</td>\n",
       "      <td>joey</td>\n",
       "      <td>joey donner</td>\n",
       "      <td>nm0005080</td>\n",
       "    </tr>\n",
       "    <tr>\n",
       "      <th>4</th>\n",
       "      <td>1</td>\n",
       "      <td>tt0147800</td>\n",
       "      <td>kat</td>\n",
       "      <td>kat stratford</td>\n",
       "      <td>nm0005466</td>\n",
       "    </tr>\n",
       "  </tbody>\n",
       "</table>\n",
       "</div>"
      ],
      "text/plain": [
       "   script_id    imdb_id character_from_script  \\\n",
       "0          1  tt0147800                bianca   \n",
       "1          1  tt0147800               cameron   \n",
       "2          1  tt0147800              chastity   \n",
       "3          1  tt0147800                  joey   \n",
       "4          1  tt0147800                   kat   \n",
       "\n",
       "  closest_character_name_from_imdb_match closest_imdb_character_id  \n",
       "0                       bianca stratford                 nm0646351  \n",
       "1                          cameron james                 nm0330687  \n",
       "2                               chastity                 nm0005517  \n",
       "3                            joey donner                 nm0005080  \n",
       "4                          kat stratford                 nm0005466  "
      ]
     },
     "execution_count": 19,
     "metadata": {},
     "output_type": "execute_result"
    }
   ],
   "source": [
    "character_mapping_df.head()"
   ]
  },
  {
   "cell_type": "code",
   "execution_count": 20,
   "metadata": {},
   "outputs": [
    {
     "data": {
      "text/html": [
       "<div>\n",
       "<style scoped>\n",
       "    .dataframe tbody tr th:only-of-type {\n",
       "        vertical-align: middle;\n",
       "    }\n",
       "\n",
       "    .dataframe tbody tr th {\n",
       "        vertical-align: top;\n",
       "    }\n",
       "\n",
       "    .dataframe thead th {\n",
       "        text-align: right;\n",
       "    }\n",
       "</style>\n",
       "<table border=\"1\" class=\"dataframe\">\n",
       "  <thead>\n",
       "    <tr style=\"text-align: right;\">\n",
       "      <th></th>\n",
       "      <th>script_id</th>\n",
       "      <th>imdb_id</th>\n",
       "      <th>title</th>\n",
       "      <th>year</th>\n",
       "      <th>gross</th>\n",
       "      <th>lines_data</th>\n",
       "    </tr>\n",
       "  </thead>\n",
       "  <tbody>\n",
       "    <tr>\n",
       "      <th>0</th>\n",
       "      <td>1534</td>\n",
       "      <td>tt1022603</td>\n",
       "      <td>(500) Days of Summer</td>\n",
       "      <td>2009</td>\n",
       "      <td>37.0</td>\n",
       "      <td>7435445256774774443342577775657744434444564456...</td>\n",
       "    </tr>\n",
       "    <tr>\n",
       "      <th>1</th>\n",
       "      <td>1512</td>\n",
       "      <td>tt0147800</td>\n",
       "      <td>10 Things I Hate About You</td>\n",
       "      <td>1999</td>\n",
       "      <td>65.0</td>\n",
       "      <td>1777752320274533344457777722433777334443764677...</td>\n",
       "    </tr>\n",
       "    <tr>\n",
       "      <th>2</th>\n",
       "      <td>1514</td>\n",
       "      <td>tt0417385</td>\n",
       "      <td>12 and Holding</td>\n",
       "      <td>2005</td>\n",
       "      <td>NaN</td>\n",
       "      <td>5461357777754212454544441367774433446547647753...</td>\n",
       "    </tr>\n",
       "    <tr>\n",
       "      <th>3</th>\n",
       "      <td>1517</td>\n",
       "      <td>tt2024544</td>\n",
       "      <td>12 Years a Slave</td>\n",
       "      <td>2013</td>\n",
       "      <td>60.0</td>\n",
       "      <td>4567334777777777777777447777756477777444777777...</td>\n",
       "    </tr>\n",
       "    <tr>\n",
       "      <th>4</th>\n",
       "      <td>1520</td>\n",
       "      <td>tt1542344</td>\n",
       "      <td>127 Hours</td>\n",
       "      <td>2010</td>\n",
       "      <td>20.0</td>\n",
       "      <td>453513352345765766777777773340</td>\n",
       "    </tr>\n",
       "  </tbody>\n",
       "</table>\n",
       "</div>"
      ],
      "text/plain": [
       "   script_id    imdb_id                       title  year  gross  \\\n",
       "0       1534  tt1022603        (500) Days of Summer  2009   37.0   \n",
       "1       1512  tt0147800  10 Things I Hate About You  1999   65.0   \n",
       "2       1514  tt0417385              12 and Holding  2005    NaN   \n",
       "3       1517  tt2024544            12 Years a Slave  2013   60.0   \n",
       "4       1520  tt1542344                   127 Hours  2010   20.0   \n",
       "\n",
       "                                          lines_data  \n",
       "0  7435445256774774443342577775657744434444564456...  \n",
       "1  1777752320274533344457777722433777334443764677...  \n",
       "2  5461357777754212454544441367774433446547647753...  \n",
       "3  4567334777777777777777447777756477777444777777...  \n",
       "4                     453513352345765766777777773340  "
      ]
     },
     "execution_count": 20,
     "metadata": {},
     "output_type": "execute_result"
    }
   ],
   "source": [
    "metaddata_df.head()"
   ]
  },
  {
   "cell_type": "code",
   "execution_count": 21,
   "metadata": {},
   "outputs": [
    {
     "name": "stdout",
     "output_type": "stream",
     "text": [
      "Index(['script_id', 'imdb_character_name', 'words', 'gender', 'age'], dtype='object')\n",
      "Index(['script_id', 'imdb_id', 'title', 'year', 'gross', 'lines_data'], dtype='object')\n"
     ]
    },
    {
     "data": {
      "text/plain": [
       "(None, None)"
      ]
     },
     "execution_count": 21,
     "metadata": {},
     "output_type": "execute_result"
    }
   ],
   "source": [
    "print(character_list_df.columns), print(metaddata_df.columns)"
   ]
  },
  {
   "cell_type": "code",
   "execution_count": 22,
   "metadata": {},
   "outputs": [
    {
     "name": "stdout",
     "output_type": "stream",
     "text": [
      "(23048, 5)\n",
      "(2000, 6)\n"
     ]
    },
    {
     "data": {
      "text/plain": [
       "(None, None)"
      ]
     },
     "execution_count": 22,
     "metadata": {},
     "output_type": "execute_result"
    }
   ],
   "source": [
    "print(character_list_df.shape), print(metaddata_df.shape)"
   ]
  },
  {
   "cell_type": "code",
   "execution_count": 23,
   "metadata": {},
   "outputs": [],
   "source": [
    "dialogue_df = pd.merge(character_list_df, metaddata_df, on='script_id', how=\"inner\")"
   ]
  },
  {
   "cell_type": "code",
   "execution_count": 24,
   "metadata": {},
   "outputs": [
    {
     "data": {
      "text/plain": [
       "year\n",
       "1929      8572\n",
       "1931     11601\n",
       "1932     67534\n",
       "1933     21125\n",
       "1934     24646\n",
       "         ...  \n",
       "2011    944803\n",
       "2012    654881\n",
       "2013    637486\n",
       "2014    707308\n",
       "2015    510435\n",
       "Name: words, Length: 81, dtype: int64"
      ]
     },
     "execution_count": 24,
     "metadata": {},
     "output_type": "execute_result"
    }
   ],
   "source": [
    "dialogue_df.groupby('year')['words'].sum()"
   ]
  },
  {
   "cell_type": "code",
   "execution_count": 25,
   "metadata": {},
   "outputs": [
    {
     "data": {
      "text/plain": [
       "script_id                int64\n",
       "imdb_character_name     object\n",
       "words                    int64\n",
       "gender                  object\n",
       "age                    float64\n",
       "imdb_id                 object\n",
       "title                   object\n",
       "year                     int64\n",
       "gross                  float64\n",
       "lines_data              object\n",
       "dtype: object"
      ]
     },
     "execution_count": 25,
     "metadata": {},
     "output_type": "execute_result"
    }
   ],
   "source": [
    "dialogue_df.dtypes"
   ]
  },
  {
   "cell_type": "code",
   "execution_count": 26,
   "metadata": {},
   "outputs": [
    {
     "data": {
      "text/html": [
       "<div>\n",
       "<style scoped>\n",
       "    .dataframe tbody tr th:only-of-type {\n",
       "        vertical-align: middle;\n",
       "    }\n",
       "\n",
       "    .dataframe tbody tr th {\n",
       "        vertical-align: top;\n",
       "    }\n",
       "\n",
       "    .dataframe thead th {\n",
       "        text-align: right;\n",
       "    }\n",
       "</style>\n",
       "<table border=\"1\" class=\"dataframe\">\n",
       "  <thead>\n",
       "    <tr style=\"text-align: right;\">\n",
       "      <th></th>\n",
       "      <th>script_id</th>\n",
       "      <th>words</th>\n",
       "      <th>age</th>\n",
       "      <th>year</th>\n",
       "      <th>gross</th>\n",
       "    </tr>\n",
       "  </thead>\n",
       "  <tbody>\n",
       "    <tr>\n",
       "      <th>count</th>\n",
       "      <td>23048.000000</td>\n",
       "      <td>23048.000000</td>\n",
       "      <td>18263.000000</td>\n",
       "      <td>23048.000000</td>\n",
       "      <td>19387.00000</td>\n",
       "    </tr>\n",
       "    <tr>\n",
       "      <th>mean</th>\n",
       "      <td>4194.784623</td>\n",
       "      <td>907.871486</td>\n",
       "      <td>42.382960</td>\n",
       "      <td>1998.133070</td>\n",
       "      <td>106.73637</td>\n",
       "    </tr>\n",
       "    <tr>\n",
       "      <th>std</th>\n",
       "      <td>2472.985787</td>\n",
       "      <td>1399.593759</td>\n",
       "      <td>59.718859</td>\n",
       "      <td>14.746058</td>\n",
       "      <td>145.85823</td>\n",
       "    </tr>\n",
       "    <tr>\n",
       "      <th>min</th>\n",
       "      <td>280.000000</td>\n",
       "      <td>101.000000</td>\n",
       "      <td>3.000000</td>\n",
       "      <td>1929.000000</td>\n",
       "      <td>0.00000</td>\n",
       "    </tr>\n",
       "    <tr>\n",
       "      <th>25%</th>\n",
       "      <td>2095.000000</td>\n",
       "      <td>193.000000</td>\n",
       "      <td>30.000000</td>\n",
       "      <td>1992.000000</td>\n",
       "      <td>22.00000</td>\n",
       "    </tr>\n",
       "    <tr>\n",
       "      <th>50%</th>\n",
       "      <td>3694.000000</td>\n",
       "      <td>396.000000</td>\n",
       "      <td>39.000000</td>\n",
       "      <td>2001.000000</td>\n",
       "      <td>56.00000</td>\n",
       "    </tr>\n",
       "    <tr>\n",
       "      <th>75%</th>\n",
       "      <td>6219.750000</td>\n",
       "      <td>980.000000</td>\n",
       "      <td>50.000000</td>\n",
       "      <td>2009.000000</td>\n",
       "      <td>136.00000</td>\n",
       "    </tr>\n",
       "    <tr>\n",
       "      <th>max</th>\n",
       "      <td>9254.000000</td>\n",
       "      <td>28102.000000</td>\n",
       "      <td>2013.000000</td>\n",
       "      <td>2015.000000</td>\n",
       "      <td>1798.00000</td>\n",
       "    </tr>\n",
       "  </tbody>\n",
       "</table>\n",
       "</div>"
      ],
      "text/plain": [
       "          script_id         words           age          year        gross\n",
       "count  23048.000000  23048.000000  18263.000000  23048.000000  19387.00000\n",
       "mean    4194.784623    907.871486     42.382960   1998.133070    106.73637\n",
       "std     2472.985787   1399.593759     59.718859     14.746058    145.85823\n",
       "min      280.000000    101.000000      3.000000   1929.000000      0.00000\n",
       "25%     2095.000000    193.000000     30.000000   1992.000000     22.00000\n",
       "50%     3694.000000    396.000000     39.000000   2001.000000     56.00000\n",
       "75%     6219.750000    980.000000     50.000000   2009.000000    136.00000\n",
       "max     9254.000000  28102.000000   2013.000000   2015.000000   1798.00000"
      ]
     },
     "execution_count": 26,
     "metadata": {},
     "output_type": "execute_result"
    }
   ],
   "source": [
    "dialogue_df.describe()"
   ]
  },
  {
   "cell_type": "code",
   "execution_count": 27,
   "metadata": {},
   "outputs": [
    {
     "data": {
      "text/html": [
       "<div>\n",
       "<style scoped>\n",
       "    .dataframe tbody tr th:only-of-type {\n",
       "        vertical-align: middle;\n",
       "    }\n",
       "\n",
       "    .dataframe tbody tr th {\n",
       "        vertical-align: top;\n",
       "    }\n",
       "\n",
       "    .dataframe thead th {\n",
       "        text-align: right;\n",
       "    }\n",
       "</style>\n",
       "<table border=\"1\" class=\"dataframe\">\n",
       "  <thead>\n",
       "    <tr style=\"text-align: right;\">\n",
       "      <th></th>\n",
       "      <th>script_id</th>\n",
       "      <th>imdb_character_name</th>\n",
       "      <th>words</th>\n",
       "      <th>gender</th>\n",
       "      <th>age</th>\n",
       "      <th>imdb_id</th>\n",
       "      <th>title</th>\n",
       "      <th>year</th>\n",
       "      <th>gross</th>\n",
       "      <th>lines_data</th>\n",
       "    </tr>\n",
       "  </thead>\n",
       "  <tbody>\n",
       "    <tr>\n",
       "      <th>12342</th>\n",
       "      <td>4031</td>\n",
       "      <td>hammer</td>\n",
       "      <td>5577</td>\n",
       "      <td>m</td>\n",
       "      <td>39.0</td>\n",
       "      <td>tt0019777</td>\n",
       "      <td>The Cocoanuts</td>\n",
       "      <td>1929</td>\n",
       "      <td>NaN</td>\n",
       "      <td>7714326647772653470347777775777763432137777555740</td>\n",
       "    </tr>\n",
       "    <tr>\n",
       "      <th>12344</th>\n",
       "      <td>4031</td>\n",
       "      <td>penelope</td>\n",
       "      <td>534</td>\n",
       "      <td>f</td>\n",
       "      <td>24.0</td>\n",
       "      <td>tt0019777</td>\n",
       "      <td>The Cocoanuts</td>\n",
       "      <td>1929</td>\n",
       "      <td>NaN</td>\n",
       "      <td>7714326647772653470347777775777763432137777555740</td>\n",
       "    </tr>\n",
       "    <tr>\n",
       "      <th>12345</th>\n",
       "      <td>4031</td>\n",
       "      <td>polly</td>\n",
       "      <td>386</td>\n",
       "      <td>f</td>\n",
       "      <td>28.0</td>\n",
       "      <td>tt0019777</td>\n",
       "      <td>The Cocoanuts</td>\n",
       "      <td>1929</td>\n",
       "      <td>NaN</td>\n",
       "      <td>7714326647772653470347777775777763432137777555740</td>\n",
       "    </tr>\n",
       "    <tr>\n",
       "      <th>12341</th>\n",
       "      <td>4031</td>\n",
       "      <td>chico</td>\n",
       "      <td>915</td>\n",
       "      <td>m</td>\n",
       "      <td>42.0</td>\n",
       "      <td>tt0019777</td>\n",
       "      <td>The Cocoanuts</td>\n",
       "      <td>1929</td>\n",
       "      <td>NaN</td>\n",
       "      <td>7714326647772653470347777775777763432137777555740</td>\n",
       "    </tr>\n",
       "    <tr>\n",
       "      <th>12340</th>\n",
       "      <td>4031</td>\n",
       "      <td>bob</td>\n",
       "      <td>668</td>\n",
       "      <td>m</td>\n",
       "      <td>42.0</td>\n",
       "      <td>tt0019777</td>\n",
       "      <td>The Cocoanuts</td>\n",
       "      <td>1929</td>\n",
       "      <td>NaN</td>\n",
       "      <td>7714326647772653470347777775777763432137777555740</td>\n",
       "    </tr>\n",
       "    <tr>\n",
       "      <th>...</th>\n",
       "      <td>...</td>\n",
       "      <td>...</td>\n",
       "      <td>...</td>\n",
       "      <td>...</td>\n",
       "      <td>...</td>\n",
       "      <td>...</td>\n",
       "      <td>...</td>\n",
       "      <td>...</td>\n",
       "      <td>...</td>\n",
       "      <td>...</td>\n",
       "    </tr>\n",
       "    <tr>\n",
       "      <th>16407</th>\n",
       "      <td>5491</td>\n",
       "      <td>fiona perry</td>\n",
       "      <td>120</td>\n",
       "      <td>f</td>\n",
       "      <td>43.0</td>\n",
       "      <td>tt3722070</td>\n",
       "      <td>The Lady in the Van</td>\n",
       "      <td>2015</td>\n",
       "      <td>0.0</td>\n",
       "      <td>5634764174143344321420433343773333423443357575...</td>\n",
       "    </tr>\n",
       "    <tr>\n",
       "      <th>16408</th>\n",
       "      <td>5491</td>\n",
       "      <td>housekeeper at</td>\n",
       "      <td>155</td>\n",
       "      <td>f</td>\n",
       "      <td>64.0</td>\n",
       "      <td>tt3722070</td>\n",
       "      <td>The Lady in the Van</td>\n",
       "      <td>2015</td>\n",
       "      <td>0.0</td>\n",
       "      <td>5634764174143344321420433343773333423443357575...</td>\n",
       "    </tr>\n",
       "    <tr>\n",
       "      <th>16409</th>\n",
       "      <td>5491</td>\n",
       "      <td>lois, social wo</td>\n",
       "      <td>114</td>\n",
       "      <td>f</td>\n",
       "      <td>31.0</td>\n",
       "      <td>tt3722070</td>\n",
       "      <td>The Lady in the Van</td>\n",
       "      <td>2015</td>\n",
       "      <td>0.0</td>\n",
       "      <td>5634764174143344321420433343773333423443357575...</td>\n",
       "    </tr>\n",
       "    <tr>\n",
       "      <th>20913</th>\n",
       "      <td>8056</td>\n",
       "      <td>lily</td>\n",
       "      <td>278</td>\n",
       "      <td>f</td>\n",
       "      <td>NaN</td>\n",
       "      <td>tt3850214</td>\n",
       "      <td>Dope</td>\n",
       "      <td>2015</td>\n",
       "      <td>18.0</td>\n",
       "      <td>5665777675656547767543446576775676566232366776...</td>\n",
       "    </tr>\n",
       "    <tr>\n",
       "      <th>19198</th>\n",
       "      <td>7332</td>\n",
       "      <td>mortdecai</td>\n",
       "      <td>4950</td>\n",
       "      <td>m</td>\n",
       "      <td>52.0</td>\n",
       "      <td>tt3045616</td>\n",
       "      <td>Mortdecai</td>\n",
       "      <td>2015</td>\n",
       "      <td>7.0</td>\n",
       "      <td>7547777634777777463436777331677777777777654577...</td>\n",
       "    </tr>\n",
       "  </tbody>\n",
       "</table>\n",
       "<p>23048 rows × 10 columns</p>\n",
       "</div>"
      ],
      "text/plain": [
       "       script_id imdb_character_name  words gender   age    imdb_id  \\\n",
       "12342       4031              hammer   5577      m  39.0  tt0019777   \n",
       "12344       4031            penelope    534      f  24.0  tt0019777   \n",
       "12345       4031               polly    386      f  28.0  tt0019777   \n",
       "12341       4031               chico    915      m  42.0  tt0019777   \n",
       "12340       4031                 bob    668      m  42.0  tt0019777   \n",
       "...          ...                 ...    ...    ...   ...        ...   \n",
       "16407       5491         fiona perry    120      f  43.0  tt3722070   \n",
       "16408       5491     housekeeper at     155      f  64.0  tt3722070   \n",
       "16409       5491     lois, social wo    114      f  31.0  tt3722070   \n",
       "20913       8056                lily    278      f   NaN  tt3850214   \n",
       "19198       7332           mortdecai   4950      m  52.0  tt3045616   \n",
       "\n",
       "                     title  year  gross  \\\n",
       "12342        The Cocoanuts  1929    NaN   \n",
       "12344        The Cocoanuts  1929    NaN   \n",
       "12345        The Cocoanuts  1929    NaN   \n",
       "12341        The Cocoanuts  1929    NaN   \n",
       "12340        The Cocoanuts  1929    NaN   \n",
       "...                    ...   ...    ...   \n",
       "16407  The Lady in the Van  2015    0.0   \n",
       "16408  The Lady in the Van  2015    0.0   \n",
       "16409  The Lady in the Van  2015    0.0   \n",
       "20913                 Dope  2015   18.0   \n",
       "19198            Mortdecai  2015    7.0   \n",
       "\n",
       "                                              lines_data  \n",
       "12342  7714326647772653470347777775777763432137777555740  \n",
       "12344  7714326647772653470347777775777763432137777555740  \n",
       "12345  7714326647772653470347777775777763432137777555740  \n",
       "12341  7714326647772653470347777775777763432137777555740  \n",
       "12340  7714326647772653470347777775777763432137777555740  \n",
       "...                                                  ...  \n",
       "16407  5634764174143344321420433343773333423443357575...  \n",
       "16408  5634764174143344321420433343773333423443357575...  \n",
       "16409  5634764174143344321420433343773333423443357575...  \n",
       "20913  5665777675656547767543446576775676566232366776...  \n",
       "19198  7547777634777777463436777331677777777777654577...  \n",
       "\n",
       "[23048 rows x 10 columns]"
      ]
     },
     "execution_count": 27,
     "metadata": {},
     "output_type": "execute_result"
    }
   ],
   "source": [
    "dialogue_df.sort_values('year')"
   ]
  },
  {
   "cell_type": "code",
   "execution_count": 28,
   "metadata": {},
   "outputs": [
    {
     "data": {
      "text/plain": [
       "script_id              False\n",
       "imdb_character_name     True\n",
       "words                  False\n",
       "gender                 False\n",
       "age                     True\n",
       "imdb_id                False\n",
       "title                  False\n",
       "year                   False\n",
       "gross                   True\n",
       "lines_data             False\n",
       "dtype: bool"
      ]
     },
     "execution_count": 28,
     "metadata": {},
     "output_type": "execute_result"
    }
   ],
   "source": [
    "dialogue_df.isna().any()"
   ]
  },
  {
   "cell_type": "code",
   "execution_count": 29,
   "metadata": {},
   "outputs": [
    {
     "data": {
      "text/plain": [
       "<Axes: xlabel='year'>"
      ]
     },
     "execution_count": 29,
     "metadata": {},
     "output_type": "execute_result"
    },
    {
     "data": {
      "image/png": "[encoded data removed]",
      "text/plain": [
       "<Figure size 640x480 with 1 Axes>"
      ]
     },
     "metadata": {},
     "output_type": "display_data"
    }
   ],
   "source": [
    "dialogue_df.plot(kind='line', x='year', y='words')"
   ]
  },
  {
   "cell_type": "code",
   "execution_count": 30,
   "metadata": {},
   "outputs": [
    {
     "data": {
      "text/plain": [
       "<Axes: xlabel='year'>"
      ]
     },
     "execution_count": 30,
     "metadata": {},
     "output_type": "execute_result"
    },
    {
     "data": {
      "image/png": "[encoded data removed]",
      "text/plain": [
       "<Figure size 640x480 with 1 Axes>"
      ]
     },
     "metadata": {},
     "output_type": "display_data"
    }
   ],
   "source": [
    "grouped_dialogue_df = dialogue_df.groupby('year')['words'].sum().reset_index()\n",
    "grouped_dialogue_df.plot(kind='line', x='year', y='words')"
   ]
  },
  {
   "cell_type": "code",
   "execution_count": 31,
   "metadata": {},
   "outputs": [
    {
     "data": {
      "text/plain": [
       "doctor             36\n",
       "frank              35\n",
       "charlie            35\n",
       "sam                29\n",
       "mike               27\n",
       "                   ..\n",
       "ron motley          1\n",
       "sharon tiller       1\n",
       "thomas sandefur     1\n",
       "dr. sercarz         1\n",
       "wardrobe            1\n",
       "Name: imdb_character_name, Length: 17613, dtype: int64"
      ]
     },
     "execution_count": 31,
     "metadata": {},
     "output_type": "execute_result"
    }
   ],
   "source": [
    "dialogue_df['imdb_character_name'].value_counts(ascending=False)"
   ]
  },
  {
   "cell_type": "code",
   "execution_count": 35,
   "metadata": {},
   "outputs": [
    {
     "ename": "ValueError",
     "evalue": "\nTo use the 'notebook' renderer, you must install the vega package\nand the associated Jupyter extension.\nSee https://altair-viz.github.io/getting_started/installation.html\nfor more information.\n",
     "output_type": "error",
     "traceback": [
      "\u001b[1;31m---------------------------------------------------------------------------\u001b[0m",
      "\u001b[1;31mValueError\u001b[0m                                Traceback (most recent call last)",
      "File \u001b[1;32m~\\AppData\\Local\\Packages\\PythonSoftwareFoundation.Python.3.10_qbz5n2kfra8p0\\LocalCache\\local-packages\\Python310\\site-packages\\altair\\utils\\plugin_registry.py:151\u001b[0m, in \u001b[0;36mPluginRegistry._enable\u001b[1;34m(self, name, **options)\u001b[0m\n\u001b[0;32m    150\u001b[0m \u001b[38;5;28;01mtry\u001b[39;00m:\n\u001b[1;32m--> 151\u001b[0m     (ep,) \u001b[38;5;241m=\u001b[39m [\n\u001b[0;32m    152\u001b[0m         ep\n\u001b[0;32m    153\u001b[0m         \u001b[38;5;28;01mfor\u001b[39;00m ep \u001b[38;5;129;01min\u001b[39;00m importlib_metadata_get(\u001b[38;5;28mself\u001b[39m\u001b[38;5;241m.\u001b[39mentry_point_group)\n\u001b[0;32m    154\u001b[0m         \u001b[38;5;28;01mif\u001b[39;00m ep\u001b[38;5;241m.\u001b[39mname \u001b[38;5;241m==\u001b[39m name\n\u001b[0;32m    155\u001b[0m     ]\n\u001b[0;32m    156\u001b[0m \u001b[38;5;28;01mexcept\u001b[39;00m \u001b[38;5;167;01mValueError\u001b[39;00m \u001b[38;5;28;01mas\u001b[39;00m err:\n",
      "\u001b[1;31mValueError\u001b[0m: not enough values to unpack (expected 1, got 0)",
      "\nThe above exception was the direct cause of the following exception:\n",
      "\u001b[1;31mValueError\u001b[0m                                Traceback (most recent call last)",
      "Cell \u001b[1;32mIn[35], line 3\u001b[0m\n\u001b[0;32m      1\u001b[0m \u001b[38;5;28;01mimport\u001b[39;00m \u001b[38;5;21;01maltair\u001b[39;00m \u001b[38;5;28;01mas\u001b[39;00m \u001b[38;5;21;01malt\u001b[39;00m\n\u001b[0;32m      2\u001b[0m alt\u001b[38;5;241m.\u001b[39mrenderers\u001b[38;5;241m.\u001b[39menable(\u001b[38;5;124m'\u001b[39m\u001b[38;5;124mmimetype\u001b[39m\u001b[38;5;124m'\u001b[39m)\n\u001b[1;32m----> 3\u001b[0m \u001b[43malt\u001b[49m\u001b[38;5;241;43m.\u001b[39;49m\u001b[43mrenderers\u001b[49m\u001b[38;5;241;43m.\u001b[39;49m\u001b[43menable\u001b[49m\u001b[43m(\u001b[49m\u001b[38;5;124;43m'\u001b[39;49m\u001b[38;5;124;43mnotebook\u001b[39;49m\u001b[38;5;124;43m'\u001b[39;49m\u001b[43m)\u001b[49m\n\u001b[0;32m      4\u001b[0m alt\u001b[38;5;241m.\u001b[39mdata_transformers\u001b[38;5;241m.\u001b[39menable(\u001b[38;5;124m'\u001b[39m\u001b[38;5;124mdefault\u001b[39m\u001b[38;5;124m'\u001b[39m, max_rows\u001b[38;5;241m=\u001b[39m\u001b[38;5;28;01mNone\u001b[39;00m)\n",
      "File \u001b[1;32m~\\AppData\\Local\\Packages\\PythonSoftwareFoundation.Python.3.10_qbz5n2kfra8p0\\LocalCache\\local-packages\\Python310\\site-packages\\altair\\utils\\plugin_registry.py:190\u001b[0m, in \u001b[0;36mPluginRegistry.enable\u001b[1;34m(self, name, **options)\u001b[0m\n\u001b[0;32m    188\u001b[0m \u001b[38;5;28;01mif\u001b[39;00m name \u001b[38;5;129;01mis\u001b[39;00m \u001b[38;5;28;01mNone\u001b[39;00m:\n\u001b[0;32m    189\u001b[0m     name \u001b[38;5;241m=\u001b[39m \u001b[38;5;28mself\u001b[39m\u001b[38;5;241m.\u001b[39mactive\n\u001b[1;32m--> 190\u001b[0m \u001b[38;5;28;01mreturn\u001b[39;00m PluginEnabler(\u001b[38;5;28mself\u001b[39m, name, \u001b[38;5;241m*\u001b[39m\u001b[38;5;241m*\u001b[39moptions)\n",
      "File \u001b[1;32m~\\AppData\\Local\\Packages\\PythonSoftwareFoundation.Python.3.10_qbz5n2kfra8p0\\LocalCache\\local-packages\\Python310\\site-packages\\altair\\utils\\plugin_registry.py:37\u001b[0m, in \u001b[0;36mPluginEnabler.__init__\u001b[1;34m(self, registry, name, **options)\u001b[0m\n\u001b[0;32m     35\u001b[0m \u001b[38;5;28mself\u001b[39m\u001b[38;5;241m.\u001b[39moptions \u001b[38;5;241m=\u001b[39m options  \u001b[38;5;66;03m# type: Dict[str, Any]\u001b[39;00m\n\u001b[0;32m     36\u001b[0m \u001b[38;5;28mself\u001b[39m\u001b[38;5;241m.\u001b[39moriginal_state \u001b[38;5;241m=\u001b[39m registry\u001b[38;5;241m.\u001b[39m_get_state()  \u001b[38;5;66;03m# type: Dict[str, Any]\u001b[39;00m\n\u001b[1;32m---> 37\u001b[0m \u001b[38;5;28mself\u001b[39m\u001b[38;5;241m.\u001b[39mregistry\u001b[38;5;241m.\u001b[39m_enable(name, \u001b[38;5;241m*\u001b[39m\u001b[38;5;241m*\u001b[39moptions)\n",
      "File \u001b[1;32m~\\AppData\\Local\\Packages\\PythonSoftwareFoundation.Python.3.10_qbz5n2kfra8p0\\LocalCache\\local-packages\\Python310\\site-packages\\altair\\utils\\plugin_registry.py:158\u001b[0m, in \u001b[0;36mPluginRegistry._enable\u001b[1;34m(self, name, **options)\u001b[0m\n\u001b[0;32m    156\u001b[0m \u001b[38;5;28;01mexcept\u001b[39;00m \u001b[38;5;167;01mValueError\u001b[39;00m \u001b[38;5;28;01mas\u001b[39;00m err:\n\u001b[0;32m    157\u001b[0m     \u001b[38;5;28;01mif\u001b[39;00m name \u001b[38;5;129;01min\u001b[39;00m \u001b[38;5;28mself\u001b[39m\u001b[38;5;241m.\u001b[39mentrypoint_err_messages:\n\u001b[1;32m--> 158\u001b[0m         \u001b[38;5;28;01mraise\u001b[39;00m \u001b[38;5;167;01mValueError\u001b[39;00m(\u001b[38;5;28mself\u001b[39m\u001b[38;5;241m.\u001b[39mentrypoint_err_messages[name]) \u001b[38;5;28;01mfrom\u001b[39;00m \u001b[38;5;21;01merr\u001b[39;00m\n\u001b[0;32m    159\u001b[0m     \u001b[38;5;28;01melse\u001b[39;00m:\n\u001b[0;32m    160\u001b[0m         \u001b[38;5;28;01mraise\u001b[39;00m NoSuchEntryPoint(\u001b[38;5;28mself\u001b[39m\u001b[38;5;241m.\u001b[39mentry_point_group, name) \u001b[38;5;28;01mfrom\u001b[39;00m \u001b[38;5;21;01merr\u001b[39;00m\n",
      "\u001b[1;31mValueError\u001b[0m: \nTo use the 'notebook' renderer, you must install the vega package\nand the associated Jupyter extension.\nSee https://altair-viz.github.io/getting_started/installation.html\nfor more information.\n"
     ]
    }
   ],
   "source": [
    "import altair as alt\n",
    "alt.renderers.enable('mimetype')\n",
    "alt.renderers.enable('notebook')\n",
    "alt.data_transformers.enable('default', max_rows=None)"
   ]
  },
  {
   "cell_type": "code",
   "execution_count": 36,
   "metadata": {},
   "outputs": [
    {
     "data": {
      "application/vnd.vegalite.v5+json": {
       "$schema": "https://vega.github.io/schema/vega-lite/v5.17.0.json",
       "config": {
        "view": {
         "continuousHeight": 300,
         "continuousWidth": 300
        }
       },
       "data": {
        "name": "data-9d6322c284a9ef23e3c22007aed67c34"
       },
       "datasets": {
        "data-9d6322c284a9ef23e3c22007aed67c34": [
         {
          "words": 8572,
          "year": 1929
         },
         {
          "words": 11601,
          "year": 1931
         },
         {
          "words": 67534,
          "year": 1932
         },
         {
          "words": 21125,
          "year": 1933
         },
         {
          "words": 24646,
          "year": 1934
         },
         {
          "words": 32380,
          "year": 1936
         },
         {
          "words": 26192,
          "year": 1937
         },
         {
          "words": 45109,
          "year": 1939
         },
         {
          "words": 40977,
          "year": 1940
         },
         {
          "words": 56795,
          "year": 1941
         },
         {
          "words": 28861,
          "year": 1943
         },
         {
          "words": 32208,
          "year": 1944
         },
         {
          "words": 29230,
          "year": 1945
         },
         {
          "words": 13678,
          "year": 1946
         },
         {
          "words": 7688,
          "year": 1947
         },
         {
          "words": 43830,
          "year": 1948
         },
         {
          "words": 23440,
          "year": 1949
         },
         {
          "words": 12149,
          "year": 1950
         },
         {
          "words": 6399,
          "year": 1951
         },
         {
          "words": 31074,
          "year": 1953
         },
         {
          "words": 52272,
          "year": 1954
         },
         {
          "words": 18280,
          "year": 1955
         },
         {
          "words": 35286,
          "year": 1956
         },
         {
          "words": 40979,
          "year": 1957
         },
         {
          "words": 14896,
          "year": 1958
         },
         {
          "words": 44422,
          "year": 1959
         },
         {
          "words": 56698,
          "year": 1960
         },
         {
          "words": 18600,
          "year": 1961
         },
         {
          "words": 21996,
          "year": 1963
         },
         {
          "words": 4895,
          "year": 1964
         },
         {
          "words": 12780,
          "year": 1965
         },
         {
          "words": 27648,
          "year": 1966
         },
         {
          "words": 58485,
          "year": 1967
         },
         {
          "words": 17918,
          "year": 1968
         },
         {
          "words": 22244,
          "year": 1969
         },
         {
          "words": 72693,
          "year": 1970
         },
         {
          "words": 112442,
          "year": 1971
         },
         {
          "words": 70358,
          "year": 1972
         },
         {
          "words": 71312,
          "year": 1973
         },
         {
          "words": 61713,
          "year": 1974
         },
         {
          "words": 129884,
          "year": 1975
         },
         {
          "words": 86732,
          "year": 1976
         },
         {
          "words": 62871,
          "year": 1977
         },
         {
          "words": 60174,
          "year": 1978
         },
         {
          "words": 155487,
          "year": 1979
         },
         {
          "words": 211444,
          "year": 1980
         },
         {
          "words": 102710,
          "year": 1981
         },
         {
          "words": 215358,
          "year": 1982
         },
         {
          "words": 137266,
          "year": 1983
         },
         {
          "words": 159963,
          "year": 1984
         },
         {
          "words": 195535,
          "year": 1985
         },
         {
          "words": 205862,
          "year": 1986
         },
         {
          "words": 281291,
          "year": 1987
         },
         {
          "words": 220812,
          "year": 1988
         },
         {
          "words": 371167,
          "year": 1989
         },
         {
          "words": 317887,
          "year": 1990
         },
         {
          "words": 419962,
          "year": 1991
         },
         {
          "words": 432379,
          "year": 1992
         },
         {
          "words": 451761,
          "year": 1993
         },
         {
          "words": 420542,
          "year": 1994
         },
         {
          "words": 666427,
          "year": 1995
         },
         {
          "words": 534001,
          "year": 1996
         },
         {
          "words": 720235,
          "year": 1997
         },
         {
          "words": 807564,
          "year": 1998
         },
         {
          "words": 1028874,
          "year": 1999
         },
         {
          "words": 748856,
          "year": 2000
         },
         {
          "words": 692483,
          "year": 2001
         },
         {
          "words": 496577,
          "year": 2002
         },
         {
          "words": 492354,
          "year": 2003
         },
         {
          "words": 567967,
          "year": 2004
         },
         {
          "words": 702133,
          "year": 2005
         },
         {
          "words": 513689,
          "year": 2006
         },
         {
          "words": 631052,
          "year": 2007
         },
         {
          "words": 807609,
          "year": 2008
         },
         {
          "words": 1152099,
          "year": 2009
         },
         {
          "words": 869297,
          "year": 2010
         },
         {
          "words": 944803,
          "year": 2011
         },
         {
          "words": 654881,
          "year": 2012
         },
         {
          "words": 637486,
          "year": 2013
         },
         {
          "words": 707308,
          "year": 2014
         },
         {
          "words": 510435,
          "year": 2015
         }
        ]
       },
       "encoding": {
        "x": {
         "field": "year",
         "type": "quantitative"
        },
        "y": {
         "field": "words",
         "type": "quantitative"
        }
       },
       "mark": {
        "type": "line"
       }
      },
      "text/plain": [
       "<VegaLite 5 object>\n",
       "\n",
       "If you see this message, it means the renderer has not been properly enabled\n",
       "for the frontend that you are using. For more information, see\n",
       "https://altair-viz.github.io/user_guide/display_frontends.html#troubleshooting\n"
      ]
     },
     "execution_count": 36,
     "metadata": {},
     "output_type": "execute_result"
    }
   ],
   "source": [
    "alt.Chart(grouped_dialogue_df).mark_line().encode(\n",
    "    x='year',\n",
    "    y='words',\n",
    ")"
   ]
  },
  {
   "cell_type": "code",
   "execution_count": 37,
   "metadata": {},
   "outputs": [
    {
     "data": {
      "application/vnd.vegalite.v5+json": {
       "$schema": "https://vega.github.io/schema/vega-lite/v5.17.0.json",
       "config": {
        "view": {
         "continuousHeight": 300,
         "continuousWidth": 300
        }
       },
       "data": {
        "name": "data-9d6322c284a9ef23e3c22007aed67c34"
       },
       "datasets": {
        "data-9d6322c284a9ef23e3c22007aed67c34": [
         {
          "words": 8572,
          "year": 1929
         },
         {
          "words": 11601,
          "year": 1931
         },
         {
          "words": 67534,
          "year": 1932
         },
         {
          "words": 21125,
          "year": 1933
         },
         {
          "words": 24646,
          "year": 1934
         },
         {
          "words": 32380,
          "year": 1936
         },
         {
          "words": 26192,
          "year": 1937
         },
         {
          "words": 45109,
          "year": 1939
         },
         {
          "words": 40977,
          "year": 1940
         },
         {
          "words": 56795,
          "year": 1941
         },
         {
          "words": 28861,
          "year": 1943
         },
         {
          "words": 32208,
          "year": 1944
         },
         {
          "words": 29230,
          "year": 1945
         },
         {
          "words": 13678,
          "year": 1946
         },
         {
          "words": 7688,
          "year": 1947
         },
         {
          "words": 43830,
          "year": 1948
         },
         {
          "words": 23440,
          "year": 1949
         },
         {
          "words": 12149,
          "year": 1950
         },
         {
          "words": 6399,
          "year": 1951
         },
         {
          "words": 31074,
          "year": 1953
         },
         {
          "words": 52272,
          "year": 1954
         },
         {
          "words": 18280,
          "year": 1955
         },
         {
          "words": 35286,
          "year": 1956
         },
         {
          "words": 40979,
          "year": 1957
         },
         {
          "words": 14896,
          "year": 1958
         },
         {
          "words": 44422,
          "year": 1959
         },
         {
          "words": 56698,
          "year": 1960
         },
         {
          "words": 18600,
          "year": 1961
         },
         {
          "words": 21996,
          "year": 1963
         },
         {
          "words": 4895,
          "year": 1964
         },
         {
          "words": 12780,
          "year": 1965
         },
         {
          "words": 27648,
          "year": 1966
         },
         {
          "words": 58485,
          "year": 1967
         },
         {
          "words": 17918,
          "year": 1968
         },
         {
          "words": 22244,
          "year": 1969
         },
         {
          "words": 72693,
          "year": 1970
         },
         {
          "words": 112442,
          "year": 1971
         },
         {
          "words": 70358,
          "year": 1972
         },
         {
          "words": 71312,
          "year": 1973
         },
         {
          "words": 61713,
          "year": 1974
         },
         {
          "words": 129884,
          "year": 1975
         },
         {
          "words": 86732,
          "year": 1976
         },
         {
          "words": 62871,
          "year": 1977
         },
         {
          "words": 60174,
          "year": 1978
         },
         {
          "words": 155487,
          "year": 1979
         },
         {
          "words": 211444,
          "year": 1980
         },
         {
          "words": 102710,
          "year": 1981
         },
         {
          "words": 215358,
          "year": 1982
         },
         {
          "words": 137266,
          "year": 1983
         },
         {
          "words": 159963,
          "year": 1984
         },
         {
          "words": 195535,
          "year": 1985
         },
         {
          "words": 205862,
          "year": 1986
         },
         {
          "words": 281291,
          "year": 1987
         },
         {
          "words": 220812,
          "year": 1988
         },
         {
          "words": 371167,
          "year": 1989
         },
         {
          "words": 317887,
          "year": 1990
         },
         {
          "words": 419962,
          "year": 1991
         },
         {
          "words": 432379,
          "year": 1992
         },
         {
          "words": 451761,
          "year": 1993
         },
         {
          "words": 420542,
          "year": 1994
         },
         {
          "words": 666427,
          "year": 1995
         },
         {
          "words": 534001,
          "year": 1996
         },
         {
          "words": 720235,
          "year": 1997
         },
         {
          "words": 807564,
          "year": 1998
         },
         {
          "words": 1028874,
          "year": 1999
         },
         {
          "words": 748856,
          "year": 2000
         },
         {
          "words": 692483,
          "year": 2001
         },
         {
          "words": 496577,
          "year": 2002
         },
         {
          "words": 492354,
          "year": 2003
         },
         {
          "words": 567967,
          "year": 2004
         },
         {
          "words": 702133,
          "year": 2005
         },
         {
          "words": 513689,
          "year": 2006
         },
         {
          "words": 631052,
          "year": 2007
         },
         {
          "words": 807609,
          "year": 2008
         },
         {
          "words": 1152099,
          "year": 2009
         },
         {
          "words": 869297,
          "year": 2010
         },
         {
          "words": 944803,
          "year": 2011
         },
         {
          "words": 654881,
          "year": 2012
         },
         {
          "words": 637486,
          "year": 2013
         },
         {
          "words": 707308,
          "year": 2014
         },
         {
          "words": 510435,
          "year": 2015
         }
        ]
       },
       "encoding": {
        "x": {
         "field": "year",
         "type": "temporal"
        },
        "y": {
         "field": "words",
         "type": "quantitative"
        }
       },
       "mark": {
        "type": "line"
       }
      },
      "text/plain": [
       "<VegaLite 5 object>\n",
       "\n",
       "If you see this message, it means the renderer has not been properly enabled\n",
       "for the frontend that you are using. For more information, see\n",
       "https://altair-viz.github.io/user_guide/display_frontends.html#troubleshooting\n"
      ]
     },
     "execution_count": 37,
     "metadata": {},
     "output_type": "execute_result"
    }
   ],
   "source": [
    "alt.Chart(grouped_dialogue_df).mark_line().encode(\n",
    "    x='year:T',\n",
    "    y='words',\n",
    ")"
   ]
  },
  {
   "cell_type": "code",
   "execution_count": 38,
   "metadata": {},
   "outputs": [],
   "source": [
    "grouped_dialogue_df['date'] = grouped_dialogue_df['year'].astype(str) + '-01-01'\n",
    "grouped_dialogue_df['date'] = pd.to_datetime(grouped_dialogue_df['date'])"
   ]
  },
  {
   "cell_type": "code",
   "execution_count": 39,
   "metadata": {},
   "outputs": [
    {
     "data": {
      "application/vnd.vegalite.v5+json": {
       "$schema": "https://vega.github.io/schema/vega-lite/v5.17.0.json",
       "config": {
        "view": {
         "continuousHeight": 300,
         "continuousWidth": 300
        }
       },
       "data": {
        "name": "data-a698fd0a48b41e073aaae13eb6e0ac3f"
       },
       "datasets": {
        "data-a698fd0a48b41e073aaae13eb6e0ac3f": [
         {
          "date": "1929-01-01T00:00:00",
          "words": 8572,
          "year": 1929
         },
         {
          "date": "1931-01-01T00:00:00",
          "words": 11601,
          "year": 1931
         },
         {
          "date": "1932-01-01T00:00:00",
          "words": 67534,
          "year": 1932
         },
         {
          "date": "1933-01-01T00:00:00",
          "words": 21125,
          "year": 1933
         },
         {
          "date": "1934-01-01T00:00:00",
          "words": 24646,
          "year": 1934
         },
         {
          "date": "1936-01-01T00:00:00",
          "words": 32380,
          "year": 1936
         },
         {
          "date": "1937-01-01T00:00:00",
          "words": 26192,
          "year": 1937
         },
         {
          "date": "1939-01-01T00:00:00",
          "words": 45109,
          "year": 1939
         },
         {
          "date": "1940-01-01T00:00:00",
          "words": 40977,
          "year": 1940
         },
         {
          "date": "1941-01-01T00:00:00",
          "words": 56795,
          "year": 1941
         },
         {
          "date": "1943-01-01T00:00:00",
          "words": 28861,
          "year": 1943
         },
         {
          "date": "1944-01-01T00:00:00",
          "words": 32208,
          "year": 1944
         },
         {
          "date": "1945-01-01T00:00:00",
          "words": 29230,
          "year": 1945
         },
         {
          "date": "1946-01-01T00:00:00",
          "words": 13678,
          "year": 1946
         },
         {
          "date": "1947-01-01T00:00:00",
          "words": 7688,
          "year": 1947
         },
         {
          "date": "1948-01-01T00:00:00",
          "words": 43830,
          "year": 1948
         },
         {
          "date": "1949-01-01T00:00:00",
          "words": 23440,
          "year": 1949
         },
         {
          "date": "1950-01-01T00:00:00",
          "words": 12149,
          "year": 1950
         },
         {
          "date": "1951-01-01T00:00:00",
          "words": 6399,
          "year": 1951
         },
         {
          "date": "1953-01-01T00:00:00",
          "words": 31074,
          "year": 1953
         },
         {
          "date": "1954-01-01T00:00:00",
          "words": 52272,
          "year": 1954
         },
         {
          "date": "1955-01-01T00:00:00",
          "words": 18280,
          "year": 1955
         },
         {
          "date": "1956-01-01T00:00:00",
          "words": 35286,
          "year": 1956
         },
         {
          "date": "1957-01-01T00:00:00",
          "words": 40979,
          "year": 1957
         },
         {
          "date": "1958-01-01T00:00:00",
          "words": 14896,
          "year": 1958
         },
         {
          "date": "1959-01-01T00:00:00",
          "words": 44422,
          "year": 1959
         },
         {
          "date": "1960-01-01T00:00:00",
          "words": 56698,
          "year": 1960
         },
         {
          "date": "1961-01-01T00:00:00",
          "words": 18600,
          "year": 1961
         },
         {
          "date": "1963-01-01T00:00:00",
          "words": 21996,
          "year": 1963
         },
         {
          "date": "1964-01-01T00:00:00",
          "words": 4895,
          "year": 1964
         },
         {
          "date": "1965-01-01T00:00:00",
          "words": 12780,
          "year": 1965
         },
         {
          "date": "1966-01-01T00:00:00",
          "words": 27648,
          "year": 1966
         },
         {
          "date": "1967-01-01T00:00:00",
          "words": 58485,
          "year": 1967
         },
         {
          "date": "1968-01-01T00:00:00",
          "words": 17918,
          "year": 1968
         },
         {
          "date": "1969-01-01T00:00:00",
          "words": 22244,
          "year": 1969
         },
         {
          "date": "1970-01-01T00:00:00",
          "words": 72693,
          "year": 1970
         },
         {
          "date": "1971-01-01T00:00:00",
          "words": 112442,
          "year": 1971
         },
         {
          "date": "1972-01-01T00:00:00",
          "words": 70358,
          "year": 1972
         },
         {
          "date": "1973-01-01T00:00:00",
          "words": 71312,
          "year": 1973
         },
         {
          "date": "1974-01-01T00:00:00",
          "words": 61713,
          "year": 1974
         },
         {
          "date": "1975-01-01T00:00:00",
          "words": 129884,
          "year": 1975
         },
         {
          "date": "1976-01-01T00:00:00",
          "words": 86732,
          "year": 1976
         },
         {
          "date": "1977-01-01T00:00:00",
          "words": 62871,
          "year": 1977
         },
         {
          "date": "1978-01-01T00:00:00",
          "words": 60174,
          "year": 1978
         },
         {
          "date": "1979-01-01T00:00:00",
          "words": 155487,
          "year": 1979
         },
         {
          "date": "1980-01-01T00:00:00",
          "words": 211444,
          "year": 1980
         },
         {
          "date": "1981-01-01T00:00:00",
          "words": 102710,
          "year": 1981
         },
         {
          "date": "1982-01-01T00:00:00",
          "words": 215358,
          "year": 1982
         },
         {
          "date": "1983-01-01T00:00:00",
          "words": 137266,
          "year": 1983
         },
         {
          "date": "1984-01-01T00:00:00",
          "words": 159963,
          "year": 1984
         },
         {
          "date": "1985-01-01T00:00:00",
          "words": 195535,
          "year": 1985
         },
         {
          "date": "1986-01-01T00:00:00",
          "words": 205862,
          "year": 1986
         },
         {
          "date": "1987-01-01T00:00:00",
          "words": 281291,
          "year": 1987
         },
         {
          "date": "1988-01-01T00:00:00",
          "words": 220812,
          "year": 1988
         },
         {
          "date": "1989-01-01T00:00:00",
          "words": 371167,
          "year": 1989
         },
         {
          "date": "1990-01-01T00:00:00",
          "words": 317887,
          "year": 1990
         },
         {
          "date": "1991-01-01T00:00:00",
          "words": 419962,
          "year": 1991
         },
         {
          "date": "1992-01-01T00:00:00",
          "words": 432379,
          "year": 1992
         },
         {
          "date": "1993-01-01T00:00:00",
          "words": 451761,
          "year": 1993
         },
         {
          "date": "1994-01-01T00:00:00",
          "words": 420542,
          "year": 1994
         },
         {
          "date": "1995-01-01T00:00:00",
          "words": 666427,
          "year": 1995
         },
         {
          "date": "1996-01-01T00:00:00",
          "words": 534001,
          "year": 1996
         },
         {
          "date": "1997-01-01T00:00:00",
          "words": 720235,
          "year": 1997
         },
         {
          "date": "1998-01-01T00:00:00",
          "words": 807564,
          "year": 1998
         },
         {
          "date": "1999-01-01T00:00:00",
          "words": 1028874,
          "year": 1999
         },
         {
          "date": "2000-01-01T00:00:00",
          "words": 748856,
          "year": 2000
         },
         {
          "date": "2001-01-01T00:00:00",
          "words": 692483,
          "year": 2001
         },
         {
          "date": "2002-01-01T00:00:00",
          "words": 496577,
          "year": 2002
         },
         {
          "date": "2003-01-01T00:00:00",
          "words": 492354,
          "year": 2003
         },
         {
          "date": "2004-01-01T00:00:00",
          "words": 567967,
          "year": 2004
         },
         {
          "date": "2005-01-01T00:00:00",
          "words": 702133,
          "year": 2005
         },
         {
          "date": "2006-01-01T00:00:00",
          "words": 513689,
          "year": 2006
         },
         {
          "date": "2007-01-01T00:00:00",
          "words": 631052,
          "year": 2007
         },
         {
          "date": "2008-01-01T00:00:00",
          "words": 807609,
          "year": 2008
         },
         {
          "date": "2009-01-01T00:00:00",
          "words": 1152099,
          "year": 2009
         },
         {
          "date": "2010-01-01T00:00:00",
          "words": 869297,
          "year": 2010
         },
         {
          "date": "2011-01-01T00:00:00",
          "words": 944803,
          "year": 2011
         },
         {
          "date": "2012-01-01T00:00:00",
          "words": 654881,
          "year": 2012
         },
         {
          "date": "2013-01-01T00:00:00",
          "words": 637486,
          "year": 2013
         },
         {
          "date": "2014-01-01T00:00:00",
          "words": 707308,
          "year": 2014
         },
         {
          "date": "2015-01-01T00:00:00",
          "words": 510435,
          "year": 2015
         }
        ]
       },
       "encoding": {
        "x": {
         "field": "date",
         "type": "temporal"
        },
        "y": {
         "field": "words",
         "type": "quantitative"
        }
       },
       "mark": {
        "type": "line"
       }
      },
      "text/plain": [
       "<VegaLite 5 object>\n",
       "\n",
       "If you see this message, it means the renderer has not been properly enabled\n",
       "for the frontend that you are using. For more information, see\n",
       "https://altair-viz.github.io/user_guide/display_frontends.html#troubleshooting\n"
      ]
     },
     "execution_count": 39,
     "metadata": {},
     "output_type": "execute_result"
    }
   ],
   "source": [
    "alt.Chart(grouped_dialogue_df).mark_line().encode(\n",
    "    x='date:T',\n",
    "    y='words',\n",
    ")"
   ]
  },
  {
   "cell_type": "code",
   "execution_count": 40,
   "metadata": {},
   "outputs": [
    {
     "data": {
      "application/vnd.vegalite.v5+json": {
       "$schema": "https://vega.github.io/schema/vega-lite/v5.17.0.json",
       "config": {
        "view": {
         "continuousHeight": 300,
         "continuousWidth": 300
        }
       },
       "data": {
        "name": "data-78095aee8544e27a60361f99c14d73d9"
       },
       "datasets": {
        "data-78095aee8544e27a60361f99c14d73d9": [
         {
          "date": "1929-01-01T00:00:00",
          "gender": "f",
          "words": 1412,
          "year": 1929
         },
         {
          "date": "1929-01-01T00:00:00",
          "gender": "m",
          "words": 7160,
          "year": 1929
         },
         {
          "date": "1931-01-01T00:00:00",
          "gender": "f",
          "words": 2337,
          "year": 1931
         },
         {
          "date": "1931-01-01T00:00:00",
          "gender": "m",
          "words": 9264,
          "year": 1931
         },
         {
          "date": "1932-01-01T00:00:00",
          "gender": "f",
          "words": 17933,
          "year": 1932
         },
         {
          "date": "1932-01-01T00:00:00",
          "gender": "m",
          "words": 49601,
          "year": 1932
         },
         {
          "date": "1933-01-01T00:00:00",
          "gender": "f",
          "words": 5172,
          "year": 1933
         },
         {
          "date": "1933-01-01T00:00:00",
          "gender": "m",
          "words": 15953,
          "year": 1933
         },
         {
          "date": "1934-01-01T00:00:00",
          "gender": "f",
          "words": 7723,
          "year": 1934
         },
         {
          "date": "1934-01-01T00:00:00",
          "gender": "m",
          "words": 16923,
          "year": 1934
         },
         {
          "date": "1936-01-01T00:00:00",
          "gender": "f",
          "words": 5872,
          "year": 1936
         },
         {
          "date": "1936-01-01T00:00:00",
          "gender": "m",
          "words": 26508,
          "year": 1936
         },
         {
          "date": "1937-01-01T00:00:00",
          "gender": "f",
          "words": 2770,
          "year": 1937
         },
         {
          "date": "1937-01-01T00:00:00",
          "gender": "m",
          "words": 23422,
          "year": 1937
         },
         {
          "date": "1939-01-01T00:00:00",
          "gender": "f",
          "words": 11633,
          "year": 1939
         },
         {
          "date": "1939-01-01T00:00:00",
          "gender": "m",
          "words": 33476,
          "year": 1939
         },
         {
          "date": "1940-01-01T00:00:00",
          "gender": "f",
          "words": 11325,
          "year": 1940
         },
         {
          "date": "1940-01-01T00:00:00",
          "gender": "m",
          "words": 29652,
          "year": 1940
         },
         {
          "date": "1941-01-01T00:00:00",
          "gender": "f",
          "words": 13651,
          "year": 1941
         },
         {
          "date": "1941-01-01T00:00:00",
          "gender": "m",
          "words": 43144,
          "year": 1941
         },
         {
          "date": "1943-01-01T00:00:00",
          "gender": "f",
          "words": 12956,
          "year": 1943
         },
         {
          "date": "1943-01-01T00:00:00",
          "gender": "m",
          "words": 15905,
          "year": 1943
         },
         {
          "date": "1944-01-01T00:00:00",
          "gender": "f",
          "words": 12673,
          "year": 1944
         },
         {
          "date": "1944-01-01T00:00:00",
          "gender": "m",
          "words": 19535,
          "year": 1944
         },
         {
          "date": "1945-01-01T00:00:00",
          "gender": "f",
          "words": 7203,
          "year": 1945
         },
         {
          "date": "1945-01-01T00:00:00",
          "gender": "m",
          "words": 22027,
          "year": 1945
         },
         {
          "date": "1946-01-01T00:00:00",
          "gender": "f",
          "words": 1268,
          "year": 1946
         },
         {
          "date": "1946-01-01T00:00:00",
          "gender": "m",
          "words": 12410,
          "year": 1946
         },
         {
          "date": "1947-01-01T00:00:00",
          "gender": "f",
          "words": 1941,
          "year": 1947
         },
         {
          "date": "1947-01-01T00:00:00",
          "gender": "m",
          "words": 5747,
          "year": 1947
         },
         {
          "date": "1948-01-01T00:00:00",
          "gender": "f",
          "words": 10599,
          "year": 1948
         },
         {
          "date": "1948-01-01T00:00:00",
          "gender": "m",
          "words": 33231,
          "year": 1948
         },
         {
          "date": "1949-01-01T00:00:00",
          "gender": "f",
          "words": 5665,
          "year": 1949
         },
         {
          "date": "1949-01-01T00:00:00",
          "gender": "m",
          "words": 17775,
          "year": 1949
         },
         {
          "date": "1950-01-01T00:00:00",
          "gender": "f",
          "words": 5640,
          "year": 1950
         },
         {
          "date": "1950-01-01T00:00:00",
          "gender": "m",
          "words": 6509,
          "year": 1950
         },
         {
          "date": "1951-01-01T00:00:00",
          "gender": "f",
          "words": 947,
          "year": 1951
         },
         {
          "date": "1951-01-01T00:00:00",
          "gender": "m",
          "words": 5452,
          "year": 1951
         },
         {
          "date": "1953-01-01T00:00:00",
          "gender": "f",
          "words": 1299,
          "year": 1953
         },
         {
          "date": "1953-01-01T00:00:00",
          "gender": "m",
          "words": 29775,
          "year": 1953
         },
         {
          "date": "1954-01-01T00:00:00",
          "gender": "f",
          "words": 15552,
          "year": 1954
         },
         {
          "date": "1954-01-01T00:00:00",
          "gender": "m",
          "words": 36720,
          "year": 1954
         },
         {
          "date": "1955-01-01T00:00:00",
          "gender": "f",
          "words": 998,
          "year": 1955
         },
         {
          "date": "1955-01-01T00:00:00",
          "gender": "m",
          "words": 17282,
          "year": 1955
         },
         {
          "date": "1956-01-01T00:00:00",
          "gender": "f",
          "words": 10182,
          "year": 1956
         },
         {
          "date": "1956-01-01T00:00:00",
          "gender": "m",
          "words": 25104,
          "year": 1956
         },
         {
          "date": "1957-01-01T00:00:00",
          "gender": "f",
          "words": 9183,
          "year": 1957
         },
         {
          "date": "1957-01-01T00:00:00",
          "gender": "m",
          "words": 31796,
          "year": 1957
         },
         {
          "date": "1958-01-01T00:00:00",
          "gender": "f",
          "words": 3635,
          "year": 1958
         },
         {
          "date": "1958-01-01T00:00:00",
          "gender": "m",
          "words": 11261,
          "year": 1958
         },
         {
          "date": "1959-01-01T00:00:00",
          "gender": "f",
          "words": 11439,
          "year": 1959
         },
         {
          "date": "1959-01-01T00:00:00",
          "gender": "m",
          "words": 32983,
          "year": 1959
         },
         {
          "date": "1960-01-01T00:00:00",
          "gender": "f",
          "words": 19037,
          "year": 1960
         },
         {
          "date": "1960-01-01T00:00:00",
          "gender": "m",
          "words": 37661,
          "year": 1960
         },
         {
          "date": "1961-01-01T00:00:00",
          "gender": "f",
          "words": 5503,
          "year": 1961
         },
         {
          "date": "1961-01-01T00:00:00",
          "gender": "m",
          "words": 13097,
          "year": 1961
         },
         {
          "date": "1963-01-01T00:00:00",
          "gender": "f",
          "words": 14284,
          "year": 1963
         },
         {
          "date": "1963-01-01T00:00:00",
          "gender": "m",
          "words": 7712,
          "year": 1963
         },
         {
          "date": "1964-01-01T00:00:00",
          "gender": "f",
          "words": 1320,
          "year": 1964
         },
         {
          "date": "1964-01-01T00:00:00",
          "gender": "m",
          "words": 3575,
          "year": 1964
         },
         {
          "date": "1965-01-01T00:00:00",
          "gender": "f",
          "words": 3358,
          "year": 1965
         },
         {
          "date": "1965-01-01T00:00:00",
          "gender": "m",
          "words": 9422,
          "year": 1965
         },
         {
          "date": "1966-01-01T00:00:00",
          "gender": "f",
          "words": 2624,
          "year": 1966
         },
         {
          "date": "1966-01-01T00:00:00",
          "gender": "m",
          "words": 25024,
          "year": 1966
         },
         {
          "date": "1967-01-01T00:00:00",
          "gender": "f",
          "words": 13005,
          "year": 1967
         },
         {
          "date": "1967-01-01T00:00:00",
          "gender": "m",
          "words": 45480,
          "year": 1967
         },
         {
          "date": "1968-01-01T00:00:00",
          "gender": "f",
          "words": 5249,
          "year": 1968
         },
         {
          "date": "1968-01-01T00:00:00",
          "gender": "m",
          "words": 12669,
          "year": 1968
         },
         {
          "date": "1969-01-01T00:00:00",
          "gender": "f",
          "words": 1478,
          "year": 1969
         },
         {
          "date": "1969-01-01T00:00:00",
          "gender": "m",
          "words": 20766,
          "year": 1969
         },
         {
          "date": "1970-01-01T00:00:00",
          "gender": "f",
          "words": 9824,
          "year": 1970
         },
         {
          "date": "1970-01-01T00:00:00",
          "gender": "m",
          "words": 62869,
          "year": 1970
         },
         {
          "date": "1971-01-01T00:00:00",
          "gender": "f",
          "words": 27635,
          "year": 1971
         },
         {
          "date": "1971-01-01T00:00:00",
          "gender": "m",
          "words": 84807,
          "year": 1971
         },
         {
          "date": "1972-01-01T00:00:00",
          "gender": "f",
          "words": 14453,
          "year": 1972
         },
         {
          "date": "1972-01-01T00:00:00",
          "gender": "m",
          "words": 55905,
          "year": 1972
         },
         {
          "date": "1973-01-01T00:00:00",
          "gender": "f",
          "words": 14036,
          "year": 1973
         },
         {
          "date": "1973-01-01T00:00:00",
          "gender": "m",
          "words": 57276,
          "year": 1973
         },
         {
          "date": "1974-01-01T00:00:00",
          "gender": "f",
          "words": 7347,
          "year": 1974
         },
         {
          "date": "1974-01-01T00:00:00",
          "gender": "m",
          "words": 54366,
          "year": 1974
         },
         {
          "date": "1975-01-01T00:00:00",
          "gender": "f",
          "words": 32306,
          "year": 1975
         },
         {
          "date": "1975-01-01T00:00:00",
          "gender": "m",
          "words": 97578,
          "year": 1975
         },
         {
          "date": "1976-01-01T00:00:00",
          "gender": "f",
          "words": 13196,
          "year": 1976
         },
         {
          "date": "1976-01-01T00:00:00",
          "gender": "m",
          "words": 73536,
          "year": 1976
         },
         {
          "date": "1977-01-01T00:00:00",
          "gender": "f",
          "words": 18556,
          "year": 1977
         },
         {
          "date": "1977-01-01T00:00:00",
          "gender": "m",
          "words": 44315,
          "year": 1977
         },
         {
          "date": "1978-01-01T00:00:00",
          "gender": "f",
          "words": 17469,
          "year": 1978
         },
         {
          "date": "1978-01-01T00:00:00",
          "gender": "m",
          "words": 42705,
          "year": 1978
         },
         {
          "date": "1979-01-01T00:00:00",
          "gender": "f",
          "words": 35039,
          "year": 1979
         },
         {
          "date": "1979-01-01T00:00:00",
          "gender": "m",
          "words": 120448,
          "year": 1979
         },
         {
          "date": "1980-01-01T00:00:00",
          "gender": "f",
          "words": 59257,
          "year": 1980
         },
         {
          "date": "1980-01-01T00:00:00",
          "gender": "m",
          "words": 152187,
          "year": 1980
         },
         {
          "date": "1981-01-01T00:00:00",
          "gender": "f",
          "words": 30266,
          "year": 1981
         },
         {
          "date": "1981-01-01T00:00:00",
          "gender": "m",
          "words": 72444,
          "year": 1981
         },
         {
          "date": "1982-01-01T00:00:00",
          "gender": "f",
          "words": 56351,
          "year": 1982
         },
         {
          "date": "1982-01-01T00:00:00",
          "gender": "m",
          "words": 159007,
          "year": 1982
         },
         {
          "date": "1983-01-01T00:00:00",
          "gender": "f",
          "words": 35427,
          "year": 1983
         },
         {
          "date": "1983-01-01T00:00:00",
          "gender": "m",
          "words": 101839,
          "year": 1983
         },
         {
          "date": "1984-01-01T00:00:00",
          "gender": "f",
          "words": 48977,
          "year": 1984
         },
         {
          "date": "1984-01-01T00:00:00",
          "gender": "m",
          "words": 110986,
          "year": 1984
         },
         {
          "date": "1985-01-01T00:00:00",
          "gender": "f",
          "words": 59992,
          "year": 1985
         },
         {
          "date": "1985-01-01T00:00:00",
          "gender": "m",
          "words": 135543,
          "year": 1985
         },
         {
          "date": "1986-01-01T00:00:00",
          "gender": "f",
          "words": 58057,
          "year": 1986
         },
         {
          "date": "1986-01-01T00:00:00",
          "gender": "m",
          "words": 147805,
          "year": 1986
         },
         {
          "date": "1987-01-01T00:00:00",
          "gender": "f",
          "words": 68483,
          "year": 1987
         },
         {
          "date": "1987-01-01T00:00:00",
          "gender": "m",
          "words": 212808,
          "year": 1987
         },
         {
          "date": "1988-01-01T00:00:00",
          "gender": "f",
          "words": 64772,
          "year": 1988
         },
         {
          "date": "1988-01-01T00:00:00",
          "gender": "m",
          "words": 156040,
          "year": 1988
         },
         {
          "date": "1989-01-01T00:00:00",
          "gender": "f",
          "words": 84852,
          "year": 1989
         },
         {
          "date": "1989-01-01T00:00:00",
          "gender": "m",
          "words": 286315,
          "year": 1989
         },
         {
          "date": "1990-01-01T00:00:00",
          "gender": "f",
          "words": 85722,
          "year": 1990
         },
         {
          "date": "1990-01-01T00:00:00",
          "gender": "m",
          "words": 232165,
          "year": 1990
         },
         {
          "date": "1991-01-01T00:00:00",
          "gender": "?",
          "words": 536,
          "year": 1991
         },
         {
          "date": "1991-01-01T00:00:00",
          "gender": "f",
          "words": 110661,
          "year": 1991
         },
         {
          "date": "1991-01-01T00:00:00",
          "gender": "m",
          "words": 308765,
          "year": 1991
         },
         {
          "date": "1992-01-01T00:00:00",
          "gender": "f",
          "words": 99534,
          "year": 1992
         },
         {
          "date": "1992-01-01T00:00:00",
          "gender": "m",
          "words": 332845,
          "year": 1992
         },
         {
          "date": "1993-01-01T00:00:00",
          "gender": "f",
          "words": 119183,
          "year": 1993
         },
         {
          "date": "1993-01-01T00:00:00",
          "gender": "m",
          "words": 332578,
          "year": 1993
         },
         {
          "date": "1994-01-01T00:00:00",
          "gender": "f",
          "words": 110544,
          "year": 1994
         },
         {
          "date": "1994-01-01T00:00:00",
          "gender": "m",
          "words": 309998,
          "year": 1994
         },
         {
          "date": "1995-01-01T00:00:00",
          "gender": "f",
          "words": 197870,
          "year": 1995
         },
         {
          "date": "1995-01-01T00:00:00",
          "gender": "m",
          "words": 468557,
          "year": 1995
         },
         {
          "date": "1996-01-01T00:00:00",
          "gender": "f",
          "words": 142147,
          "year": 1996
         },
         {
          "date": "1996-01-01T00:00:00",
          "gender": "m",
          "words": 391854,
          "year": 1996
         },
         {
          "date": "1997-01-01T00:00:00",
          "gender": "f",
          "words": 193260,
          "year": 1997
         },
         {
          "date": "1997-01-01T00:00:00",
          "gender": "m",
          "words": 526975,
          "year": 1997
         },
         {
          "date": "1998-01-01T00:00:00",
          "gender": "f",
          "words": 213565,
          "year": 1998
         },
         {
          "date": "1998-01-01T00:00:00",
          "gender": "m",
          "words": 593999,
          "year": 1998
         },
         {
          "date": "1999-01-01T00:00:00",
          "gender": "f",
          "words": 289681,
          "year": 1999
         },
         {
          "date": "1999-01-01T00:00:00",
          "gender": "m",
          "words": 739193,
          "year": 1999
         },
         {
          "date": "2000-01-01T00:00:00",
          "gender": "f",
          "words": 199887,
          "year": 2000
         },
         {
          "date": "2000-01-01T00:00:00",
          "gender": "m",
          "words": 548969,
          "year": 2000
         },
         {
          "date": "2001-01-01T00:00:00",
          "gender": "f",
          "words": 205328,
          "year": 2001
         },
         {
          "date": "2001-01-01T00:00:00",
          "gender": "m",
          "words": 487155,
          "year": 2001
         },
         {
          "date": "2002-01-01T00:00:00",
          "gender": "f",
          "words": 133410,
          "year": 2002
         },
         {
          "date": "2002-01-01T00:00:00",
          "gender": "m",
          "words": 363167,
          "year": 2002
         },
         {
          "date": "2003-01-01T00:00:00",
          "gender": "?",
          "words": 488,
          "year": 2003
         },
         {
          "date": "2003-01-01T00:00:00",
          "gender": "f",
          "words": 129991,
          "year": 2003
         },
         {
          "date": "2003-01-01T00:00:00",
          "gender": "m",
          "words": 361875,
          "year": 2003
         },
         {
          "date": "2004-01-01T00:00:00",
          "gender": "f",
          "words": 158648,
          "year": 2004
         },
         {
          "date": "2004-01-01T00:00:00",
          "gender": "m",
          "words": 409319,
          "year": 2004
         },
         {
          "date": "2005-01-01T00:00:00",
          "gender": "f",
          "words": 202356,
          "year": 2005
         },
         {
          "date": "2005-01-01T00:00:00",
          "gender": "m",
          "words": 499777,
          "year": 2005
         },
         {
          "date": "2006-01-01T00:00:00",
          "gender": "f",
          "words": 144684,
          "year": 2006
         },
         {
          "date": "2006-01-01T00:00:00",
          "gender": "m",
          "words": 369005,
          "year": 2006
         },
         {
          "date": "2007-01-01T00:00:00",
          "gender": "f",
          "words": 170943,
          "year": 2007
         },
         {
          "date": "2007-01-01T00:00:00",
          "gender": "m",
          "words": 460109,
          "year": 2007
         },
         {
          "date": "2008-01-01T00:00:00",
          "gender": "f",
          "words": 242327,
          "year": 2008
         },
         {
          "date": "2008-01-01T00:00:00",
          "gender": "m",
          "words": 565282,
          "year": 2008
         },
         {
          "date": "2009-01-01T00:00:00",
          "gender": "f",
          "words": 367845,
          "year": 2009
         },
         {
          "date": "2009-01-01T00:00:00",
          "gender": "m",
          "words": 784254,
          "year": 2009
         },
         {
          "date": "2010-01-01T00:00:00",
          "gender": "f",
          "words": 278024,
          "year": 2010
         },
         {
          "date": "2010-01-01T00:00:00",
          "gender": "m",
          "words": 591273,
          "year": 2010
         },
         {
          "date": "2011-01-01T00:00:00",
          "gender": "f",
          "words": 301780,
          "year": 2011
         },
         {
          "date": "2011-01-01T00:00:00",
          "gender": "m",
          "words": 643023,
          "year": 2011
         },
         {
          "date": "2012-01-01T00:00:00",
          "gender": "f",
          "words": 183780,
          "year": 2012
         },
         {
          "date": "2012-01-01T00:00:00",
          "gender": "m",
          "words": 471101,
          "year": 2012
         },
         {
          "date": "2013-01-01T00:00:00",
          "gender": "?",
          "words": 383,
          "year": 2013
         },
         {
          "date": "2013-01-01T00:00:00",
          "gender": "f",
          "words": 190277,
          "year": 2013
         },
         {
          "date": "2013-01-01T00:00:00",
          "gender": "m",
          "words": 446826,
          "year": 2013
         },
         {
          "date": "2014-01-01T00:00:00",
          "gender": "f",
          "words": 218443,
          "year": 2014
         },
         {
          "date": "2014-01-01T00:00:00",
          "gender": "m",
          "words": 488865,
          "year": 2014
         },
         {
          "date": "2015-01-01T00:00:00",
          "gender": "f",
          "words": 174606,
          "year": 2015
         },
         {
          "date": "2015-01-01T00:00:00",
          "gender": "m",
          "words": 335829,
          "year": 2015
         }
        ]
       },
       "encoding": {
        "color": {
         "field": "gender",
         "type": "nominal"
        },
        "x": {
         "field": "date",
         "type": "temporal"
        },
        "y": {
         "field": "words",
         "type": "quantitative"
        }
       },
       "mark": {
        "type": "line"
       }
      },
      "text/plain": [
       "<VegaLite 5 object>\n",
       "\n",
       "If you see this message, it means the renderer has not been properly enabled\n",
       "for the frontend that you are using. For more information, see\n",
       "https://altair-viz.github.io/user_guide/display_frontends.html#troubleshooting\n"
      ]
     },
     "execution_count": 40,
     "metadata": {},
     "output_type": "execute_result"
    }
   ],
   "source": [
    "grouped_dialogue_df = dialogue_df.groupby(['year', 'gender'])['words'].sum().reset_index()\n",
    "grouped_dialogue_df['date'] = grouped_dialogue_df['year'].astype(str) + '-01-01'\n",
    "grouped_dialogue_df['date'] = pd.to_datetime(grouped_dialogue_df['date'])\n",
    "alt.Chart(grouped_dialogue_df).mark_line().encode(\n",
    "    x='date:T',\n",
    "    y='words',\n",
    "    color='gender'\n",
    ")"
   ]
  },
  {
   "cell_type": "code",
   "execution_count": 43,
   "metadata": {},
   "outputs": [
    {
     "data": {
      "application/vnd.vegalite.v5+json": {
       "$schema": "https://vega.github.io/schema/vega-lite/v5.17.0.json",
       "config": {
        "view": {
         "continuousHeight": 300,
         "continuousWidth": 300
        }
       },
       "data": {
        "name": "data-78095aee8544e27a60361f99c14d73d9"
       },
       "datasets": {
        "data-78095aee8544e27a60361f99c14d73d9": [
         {
          "date": "1929-01-01T00:00:00",
          "gender": "f",
          "words": 1412,
          "year": 1929
         },
         {
          "date": "1929-01-01T00:00:00",
          "gender": "m",
          "words": 7160,
          "year": 1929
         },
         {
          "date": "1931-01-01T00:00:00",
          "gender": "f",
          "words": 2337,
          "year": 1931
         },
         {
          "date": "1931-01-01T00:00:00",
          "gender": "m",
          "words": 9264,
          "year": 1931
         },
         {
          "date": "1932-01-01T00:00:00",
          "gender": "f",
          "words": 17933,
          "year": 1932
         },
         {
          "date": "1932-01-01T00:00:00",
          "gender": "m",
          "words": 49601,
          "year": 1932
         },
         {
          "date": "1933-01-01T00:00:00",
          "gender": "f",
          "words": 5172,
          "year": 1933
         },
         {
          "date": "1933-01-01T00:00:00",
          "gender": "m",
          "words": 15953,
          "year": 1933
         },
         {
          "date": "1934-01-01T00:00:00",
          "gender": "f",
          "words": 7723,
          "year": 1934
         },
         {
          "date": "1934-01-01T00:00:00",
          "gender": "m",
          "words": 16923,
          "year": 1934
         },
         {
          "date": "1936-01-01T00:00:00",
          "gender": "f",
          "words": 5872,
          "year": 1936
         },
         {
          "date": "1936-01-01T00:00:00",
          "gender": "m",
          "words": 26508,
          "year": 1936
         },
         {
          "date": "1937-01-01T00:00:00",
          "gender": "f",
          "words": 2770,
          "year": 1937
         },
         {
          "date": "1937-01-01T00:00:00",
          "gender": "m",
          "words": 23422,
          "year": 1937
         },
         {
          "date": "1939-01-01T00:00:00",
          "gender": "f",
          "words": 11633,
          "year": 1939
         },
         {
          "date": "1939-01-01T00:00:00",
          "gender": "m",
          "words": 33476,
          "year": 1939
         },
         {
          "date": "1940-01-01T00:00:00",
          "gender": "f",
          "words": 11325,
          "year": 1940
         },
         {
          "date": "1940-01-01T00:00:00",
          "gender": "m",
          "words": 29652,
          "year": 1940
         },
         {
          "date": "1941-01-01T00:00:00",
          "gender": "f",
          "words": 13651,
          "year": 1941
         },
         {
          "date": "1941-01-01T00:00:00",
          "gender": "m",
          "words": 43144,
          "year": 1941
         },
         {
          "date": "1943-01-01T00:00:00",
          "gender": "f",
          "words": 12956,
          "year": 1943
         },
         {
          "date": "1943-01-01T00:00:00",
          "gender": "m",
          "words": 15905,
          "year": 1943
         },
         {
          "date": "1944-01-01T00:00:00",
          "gender": "f",
          "words": 12673,
          "year": 1944
         },
         {
          "date": "1944-01-01T00:00:00",
          "gender": "m",
          "words": 19535,
          "year": 1944
         },
         {
          "date": "1945-01-01T00:00:00",
          "gender": "f",
          "words": 7203,
          "year": 1945
         },
         {
          "date": "1945-01-01T00:00:00",
          "gender": "m",
          "words": 22027,
          "year": 1945
         },
         {
          "date": "1946-01-01T00:00:00",
          "gender": "f",
          "words": 1268,
          "year": 1946
         },
         {
          "date": "1946-01-01T00:00:00",
          "gender": "m",
          "words": 12410,
          "year": 1946
         },
         {
          "date": "1947-01-01T00:00:00",
          "gender": "f",
          "words": 1941,
          "year": 1947
         },
         {
          "date": "1947-01-01T00:00:00",
          "gender": "m",
          "words": 5747,
          "year": 1947
         },
         {
          "date": "1948-01-01T00:00:00",
          "gender": "f",
          "words": 10599,
          "year": 1948
         },
         {
          "date": "1948-01-01T00:00:00",
          "gender": "m",
          "words": 33231,
          "year": 1948
         },
         {
          "date": "1949-01-01T00:00:00",
          "gender": "f",
          "words": 5665,
          "year": 1949
         },
         {
          "date": "1949-01-01T00:00:00",
          "gender": "m",
          "words": 17775,
          "year": 1949
         },
         {
          "date": "1950-01-01T00:00:00",
          "gender": "f",
          "words": 5640,
          "year": 1950
         },
         {
          "date": "1950-01-01T00:00:00",
          "gender": "m",
          "words": 6509,
          "year": 1950
         },
         {
          "date": "1951-01-01T00:00:00",
          "gender": "f",
          "words": 947,
          "year": 1951
         },
         {
          "date": "1951-01-01T00:00:00",
          "gender": "m",
          "words": 5452,
          "year": 1951
         },
         {
          "date": "1953-01-01T00:00:00",
          "gender": "f",
          "words": 1299,
          "year": 1953
         },
         {
          "date": "1953-01-01T00:00:00",
          "gender": "m",
          "words": 29775,
          "year": 1953
         },
         {
          "date": "1954-01-01T00:00:00",
          "gender": "f",
          "words": 15552,
          "year": 1954
         },
         {
          "date": "1954-01-01T00:00:00",
          "gender": "m",
          "words": 36720,
          "year": 1954
         },
         {
          "date": "1955-01-01T00:00:00",
          "gender": "f",
          "words": 998,
          "year": 1955
         },
         {
          "date": "1955-01-01T00:00:00",
          "gender": "m",
          "words": 17282,
          "year": 1955
         },
         {
          "date": "1956-01-01T00:00:00",
          "gender": "f",
          "words": 10182,
          "year": 1956
         },
         {
          "date": "1956-01-01T00:00:00",
          "gender": "m",
          "words": 25104,
          "year": 1956
         },
         {
          "date": "1957-01-01T00:00:00",
          "gender": "f",
          "words": 9183,
          "year": 1957
         },
         {
          "date": "1957-01-01T00:00:00",
          "gender": "m",
          "words": 31796,
          "year": 1957
         },
         {
          "date": "1958-01-01T00:00:00",
          "gender": "f",
          "words": 3635,
          "year": 1958
         },
         {
          "date": "1958-01-01T00:00:00",
          "gender": "m",
          "words": 11261,
          "year": 1958
         },
         {
          "date": "1959-01-01T00:00:00",
          "gender": "f",
          "words": 11439,
          "year": 1959
         },
         {
          "date": "1959-01-01T00:00:00",
          "gender": "m",
          "words": 32983,
          "year": 1959
         },
         {
          "date": "1960-01-01T00:00:00",
          "gender": "f",
          "words": 19037,
          "year": 1960
         },
         {
          "date": "1960-01-01T00:00:00",
          "gender": "m",
          "words": 37661,
          "year": 1960
         },
         {
          "date": "1961-01-01T00:00:00",
          "gender": "f",
          "words": 5503,
          "year": 1961
         },
         {
          "date": "1961-01-01T00:00:00",
          "gender": "m",
          "words": 13097,
          "year": 1961
         },
         {
          "date": "1963-01-01T00:00:00",
          "gender": "f",
          "words": 14284,
          "year": 1963
         },
         {
          "date": "1963-01-01T00:00:00",
          "gender": "m",
          "words": 7712,
          "year": 1963
         },
         {
          "date": "1964-01-01T00:00:00",
          "gender": "f",
          "words": 1320,
          "year": 1964
         },
         {
          "date": "1964-01-01T00:00:00",
          "gender": "m",
          "words": 3575,
          "year": 1964
         },
         {
          "date": "1965-01-01T00:00:00",
          "gender": "f",
          "words": 3358,
          "year": 1965
         },
         {
          "date": "1965-01-01T00:00:00",
          "gender": "m",
          "words": 9422,
          "year": 1965
         },
         {
          "date": "1966-01-01T00:00:00",
          "gender": "f",
          "words": 2624,
          "year": 1966
         },
         {
          "date": "1966-01-01T00:00:00",
          "gender": "m",
          "words": 25024,
          "year": 1966
         },
         {
          "date": "1967-01-01T00:00:00",
          "gender": "f",
          "words": 13005,
          "year": 1967
         },
         {
          "date": "1967-01-01T00:00:00",
          "gender": "m",
          "words": 45480,
          "year": 1967
         },
         {
          "date": "1968-01-01T00:00:00",
          "gender": "f",
          "words": 5249,
          "year": 1968
         },
         {
          "date": "1968-01-01T00:00:00",
          "gender": "m",
          "words": 12669,
          "year": 1968
         },
         {
          "date": "1969-01-01T00:00:00",
          "gender": "f",
          "words": 1478,
          "year": 1969
         },
         {
          "date": "1969-01-01T00:00:00",
          "gender": "m",
          "words": 20766,
          "year": 1969
         },
         {
          "date": "1970-01-01T00:00:00",
          "gender": "f",
          "words": 9824,
          "year": 1970
         },
         {
          "date": "1970-01-01T00:00:00",
          "gender": "m",
          "words": 62869,
          "year": 1970
         },
         {
          "date": "1971-01-01T00:00:00",
          "gender": "f",
          "words": 27635,
          "year": 1971
         },
         {
          "date": "1971-01-01T00:00:00",
          "gender": "m",
          "words": 84807,
          "year": 1971
         },
         {
          "date": "1972-01-01T00:00:00",
          "gender": "f",
          "words": 14453,
          "year": 1972
         },
         {
          "date": "1972-01-01T00:00:00",
          "gender": "m",
          "words": 55905,
          "year": 1972
         },
         {
          "date": "1973-01-01T00:00:00",
          "gender": "f",
          "words": 14036,
          "year": 1973
         },
         {
          "date": "1973-01-01T00:00:00",
          "gender": "m",
          "words": 57276,
          "year": 1973
         },
         {
          "date": "1974-01-01T00:00:00",
          "gender": "f",
          "words": 7347,
          "year": 1974
         },
         {
          "date": "1974-01-01T00:00:00",
          "gender": "m",
          "words": 54366,
          "year": 1974
         },
         {
          "date": "1975-01-01T00:00:00",
          "gender": "f",
          "words": 32306,
          "year": 1975
         },
         {
          "date": "1975-01-01T00:00:00",
          "gender": "m",
          "words": 97578,
          "year": 1975
         },
         {
          "date": "1976-01-01T00:00:00",
          "gender": "f",
          "words": 13196,
          "year": 1976
         },
         {
          "date": "1976-01-01T00:00:00",
          "gender": "m",
          "words": 73536,
          "year": 1976
         },
         {
          "date": "1977-01-01T00:00:00",
          "gender": "f",
          "words": 18556,
          "year": 1977
         },
         {
          "date": "1977-01-01T00:00:00",
          "gender": "m",
          "words": 44315,
          "year": 1977
         },
         {
          "date": "1978-01-01T00:00:00",
          "gender": "f",
          "words": 17469,
          "year": 1978
         },
         {
          "date": "1978-01-01T00:00:00",
          "gender": "m",
          "words": 42705,
          "year": 1978
         },
         {
          "date": "1979-01-01T00:00:00",
          "gender": "f",
          "words": 35039,
          "year": 1979
         },
         {
          "date": "1979-01-01T00:00:00",
          "gender": "m",
          "words": 120448,
          "year": 1979
         },
         {
          "date": "1980-01-01T00:00:00",
          "gender": "f",
          "words": 59257,
          "year": 1980
         },
         {
          "date": "1980-01-01T00:00:00",
          "gender": "m",
          "words": 152187,
          "year": 1980
         },
         {
          "date": "1981-01-01T00:00:00",
          "gender": "f",
          "words": 30266,
          "year": 1981
         },
         {
          "date": "1981-01-01T00:00:00",
          "gender": "m",
          "words": 72444,
          "year": 1981
         },
         {
          "date": "1982-01-01T00:00:00",
          "gender": "f",
          "words": 56351,
          "year": 1982
         },
         {
          "date": "1982-01-01T00:00:00",
          "gender": "m",
          "words": 159007,
          "year": 1982
         },
         {
          "date": "1983-01-01T00:00:00",
          "gender": "f",
          "words": 35427,
          "year": 1983
         },
         {
          "date": "1983-01-01T00:00:00",
          "gender": "m",
          "words": 101839,
          "year": 1983
         },
         {
          "date": "1984-01-01T00:00:00",
          "gender": "f",
          "words": 48977,
          "year": 1984
         },
         {
          "date": "1984-01-01T00:00:00",
          "gender": "m",
          "words": 110986,
          "year": 1984
         },
         {
          "date": "1985-01-01T00:00:00",
          "gender": "f",
          "words": 59992,
          "year": 1985
         },
         {
          "date": "1985-01-01T00:00:00",
          "gender": "m",
          "words": 135543,
          "year": 1985
         },
         {
          "date": "1986-01-01T00:00:00",
          "gender": "f",
          "words": 58057,
          "year": 1986
         },
         {
          "date": "1986-01-01T00:00:00",
          "gender": "m",
          "words": 147805,
          "year": 1986
         },
         {
          "date": "1987-01-01T00:00:00",
          "gender": "f",
          "words": 68483,
          "year": 1987
         },
         {
          "date": "1987-01-01T00:00:00",
          "gender": "m",
          "words": 212808,
          "year": 1987
         },
         {
          "date": "1988-01-01T00:00:00",
          "gender": "f",
          "words": 64772,
          "year": 1988
         },
         {
          "date": "1988-01-01T00:00:00",
          "gender": "m",
          "words": 156040,
          "year": 1988
         },
         {
          "date": "1989-01-01T00:00:00",
          "gender": "f",
          "words": 84852,
          "year": 1989
         },
         {
          "date": "1989-01-01T00:00:00",
          "gender": "m",
          "words": 286315,
          "year": 1989
         },
         {
          "date": "1990-01-01T00:00:00",
          "gender": "f",
          "words": 85722,
          "year": 1990
         },
         {
          "date": "1990-01-01T00:00:00",
          "gender": "m",
          "words": 232165,
          "year": 1990
         },
         {
          "date": "1991-01-01T00:00:00",
          "gender": "?",
          "words": 536,
          "year": 1991
         },
         {
          "date": "1991-01-01T00:00:00",
          "gender": "f",
          "words": 110661,
          "year": 1991
         },
         {
          "date": "1991-01-01T00:00:00",
          "gender": "m",
          "words": 308765,
          "year": 1991
         },
         {
          "date": "1992-01-01T00:00:00",
          "gender": "f",
          "words": 99534,
          "year": 1992
         },
         {
          "date": "1992-01-01T00:00:00",
          "gender": "m",
          "words": 332845,
          "year": 1992
         },
         {
          "date": "1993-01-01T00:00:00",
          "gender": "f",
          "words": 119183,
          "year": 1993
         },
         {
          "date": "1993-01-01T00:00:00",
          "gender": "m",
          "words": 332578,
          "year": 1993
         },
         {
          "date": "1994-01-01T00:00:00",
          "gender": "f",
          "words": 110544,
          "year": 1994
         },
         {
          "date": "1994-01-01T00:00:00",
          "gender": "m",
          "words": 309998,
          "year": 1994
         },
         {
          "date": "1995-01-01T00:00:00",
          "gender": "f",
          "words": 197870,
          "year": 1995
         },
         {
          "date": "1995-01-01T00:00:00",
          "gender": "m",
          "words": 468557,
          "year": 1995
         },
         {
          "date": "1996-01-01T00:00:00",
          "gender": "f",
          "words": 142147,
          "year": 1996
         },
         {
          "date": "1996-01-01T00:00:00",
          "gender": "m",
          "words": 391854,
          "year": 1996
         },
         {
          "date": "1997-01-01T00:00:00",
          "gender": "f",
          "words": 193260,
          "year": 1997
         },
         {
          "date": "1997-01-01T00:00:00",
          "gender": "m",
          "words": 526975,
          "year": 1997
         },
         {
          "date": "1998-01-01T00:00:00",
          "gender": "f",
          "words": 213565,
          "year": 1998
         },
         {
          "date": "1998-01-01T00:00:00",
          "gender": "m",
          "words": 593999,
          "year": 1998
         },
         {
          "date": "1999-01-01T00:00:00",
          "gender": "f",
          "words": 289681,
          "year": 1999
         },
         {
          "date": "1999-01-01T00:00:00",
          "gender": "m",
          "words": 739193,
          "year": 1999
         },
         {
          "date": "2000-01-01T00:00:00",
          "gender": "f",
          "words": 199887,
          "year": 2000
         },
         {
          "date": "2000-01-01T00:00:00",
          "gender": "m",
          "words": 548969,
          "year": 2000
         },
         {
          "date": "2001-01-01T00:00:00",
          "gender": "f",
          "words": 205328,
          "year": 2001
         },
         {
          "date": "2001-01-01T00:00:00",
          "gender": "m",
          "words": 487155,
          "year": 2001
         },
         {
          "date": "2002-01-01T00:00:00",
          "gender": "f",
          "words": 133410,
          "year": 2002
         },
         {
          "date": "2002-01-01T00:00:00",
          "gender": "m",
          "words": 363167,
          "year": 2002
         },
         {
          "date": "2003-01-01T00:00:00",
          "gender": "?",
          "words": 488,
          "year": 2003
         },
         {
          "date": "2003-01-01T00:00:00",
          "gender": "f",
          "words": 129991,
          "year": 2003
         },
         {
          "date": "2003-01-01T00:00:00",
          "gender": "m",
          "words": 361875,
          "year": 2003
         },
         {
          "date": "2004-01-01T00:00:00",
          "gender": "f",
          "words": 158648,
          "year": 2004
         },
         {
          "date": "2004-01-01T00:00:00",
          "gender": "m",
          "words": 409319,
          "year": 2004
         },
         {
          "date": "2005-01-01T00:00:00",
          "gender": "f",
          "words": 202356,
          "year": 2005
         },
         {
          "date": "2005-01-01T00:00:00",
          "gender": "m",
          "words": 499777,
          "year": 2005
         },
         {
          "date": "2006-01-01T00:00:00",
          "gender": "f",
          "words": 144684,
          "year": 2006
         },
         {
          "date": "2006-01-01T00:00:00",
          "gender": "m",
          "words": 369005,
          "year": 2006
         },
         {
          "date": "2007-01-01T00:00:00",
          "gender": "f",
          "words": 170943,
          "year": 2007
         },
         {
          "date": "2007-01-01T00:00:00",
          "gender": "m",
          "words": 460109,
          "year": 2007
         },
         {
          "date": "2008-01-01T00:00:00",
          "gender": "f",
          "words": 242327,
          "year": 2008
         },
         {
          "date": "2008-01-01T00:00:00",
          "gender": "m",
          "words": 565282,
          "year": 2008
         },
         {
          "date": "2009-01-01T00:00:00",
          "gender": "f",
          "words": 367845,
          "year": 2009
         },
         {
          "date": "2009-01-01T00:00:00",
          "gender": "m",
          "words": 784254,
          "year": 2009
         },
         {
          "date": "2010-01-01T00:00:00",
          "gender": "f",
          "words": 278024,
          "year": 2010
         },
         {
          "date": "2010-01-01T00:00:00",
          "gender": "m",
          "words": 591273,
          "year": 2010
         },
         {
          "date": "2011-01-01T00:00:00",
          "gender": "f",
          "words": 301780,
          "year": 2011
         },
         {
          "date": "2011-01-01T00:00:00",
          "gender": "m",
          "words": 643023,
          "year": 2011
         },
         {
          "date": "2012-01-01T00:00:00",
          "gender": "f",
          "words": 183780,
          "year": 2012
         },
         {
          "date": "2012-01-01T00:00:00",
          "gender": "m",
          "words": 471101,
          "year": 2012
         },
         {
          "date": "2013-01-01T00:00:00",
          "gender": "?",
          "words": 383,
          "year": 2013
         },
         {
          "date": "2013-01-01T00:00:00",
          "gender": "f",
          "words": 190277,
          "year": 2013
         },
         {
          "date": "2013-01-01T00:00:00",
          "gender": "m",
          "words": 446826,
          "year": 2013
         },
         {
          "date": "2014-01-01T00:00:00",
          "gender": "f",
          "words": 218443,
          "year": 2014
         },
         {
          "date": "2014-01-01T00:00:00",
          "gender": "m",
          "words": 488865,
          "year": 2014
         },
         {
          "date": "2015-01-01T00:00:00",
          "gender": "f",
          "words": 174606,
          "year": 2015
         },
         {
          "date": "2015-01-01T00:00:00",
          "gender": "m",
          "words": 335829,
          "year": 2015
         }
        ]
       },
       "encoding": {
        "color": {
         "field": "gender",
         "type": "nominal"
        },
        "tooltip": [
         {
          "field": "date",
          "type": "temporal"
         },
         {
          "field": "words",
          "type": "quantitative"
         }
        ],
        "x": {
         "field": "date",
         "type": "temporal"
        },
        "y": {
         "field": "words",
         "type": "quantitative"
        }
       },
       "mark": {
        "type": "line"
       },
       "title": "Dialogue Over Time Colored By Gender"
      },
      "text/plain": [
       "<VegaLite 5 object>\n",
       "\n",
       "If you see this message, it means the renderer has not been properly enabled\n",
       "for the frontend that you are using. For more information, see\n",
       "https://altair-viz.github.io/user_guide/display_frontends.html#troubleshooting\n"
      ]
     },
     "execution_count": 43,
     "metadata": {},
     "output_type": "execute_result"
    }
   ],
   "source": [
    "alt.Chart(grouped_dialogue_df).mark_line().encode(\n",
    "    x='date:T',\n",
    "    y='words',\n",
    "    color='gender',\n",
    "    tooltip=['date', 'words']\n",
    ").properties(\n",
    "    title='Dialogue Over Time Colored By Gender'\n",
    ")"
   ]
  }
 ],
 "metadata": {
  "kernelspec": {
   "display_name": "Python 3",
   "language": "python",
   "name": "python3"
  },
  "language_info": {
   "codemirror_mode": {
    "name": "ipython",
    "version": 3
   },
   "file_extension": ".py",
   "mimetype": "text/x-python",
   "name": "python",
   "nbconvert_exporter": "python",
   "pygments_lexer": "ipython3",
   "version": "3.10.11"
  }
 },
 "nbformat": 4,
 "nbformat_minor": 2
}
